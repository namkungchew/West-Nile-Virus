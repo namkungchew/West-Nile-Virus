{
 "cells": [
  {
   "cell_type": "markdown",
   "id": "c77acf36",
   "metadata": {},
   "source": [
    "### Contents:\n",
    "- [1. Import Libraries](#1.-Import-Libraries)\n",
    "- [2. Data Import](#2.-Data-Import)\n",
    "- [3. Data Cleaning](#3.-Data-Cleaning)\n",
    "    - [3.1. Data](#3.1.-Data)\n",
    "    - [3.2. Missing Values](#3.2.-Missing-Values)\n",
    "    - [3.3. Merged Rows](#3.3.-Merged-Rows)\n",
    "    - [3.4. Features Transformation](#3.4.-Features-Transformation)"
   ]
  },
  {
   "cell_type": "markdown",
   "id": "b805b750",
   "metadata": {},
   "source": [
    "## 1. Import Libraries\n",
    "---"
   ]
  },
  {
   "cell_type": "code",
   "execution_count": 1,
   "id": "682fe74c",
   "metadata": {},
   "outputs": [],
   "source": [
    "import pandas as pd\n",
    "import numpy as np\n",
    "import datetime"
   ]
  },
  {
   "cell_type": "markdown",
   "id": "76908525",
   "metadata": {},
   "source": [
    "## 2. Data Import\n",
    "---"
   ]
  },
  {
   "cell_type": "code",
   "execution_count": 2,
   "id": "ef3256a5",
   "metadata": {},
   "outputs": [],
   "source": [
    "train = pd.read_csv(\"../Datasets/train.csv\")\n",
    "test = pd.read_csv(\"../Datasets/test.csv\")"
   ]
  },
  {
   "cell_type": "code",
   "execution_count": 3,
   "id": "222c59aa",
   "metadata": {},
   "outputs": [
    {
     "data": {
      "text/html": [
       "<div>\n",
       "<style scoped>\n",
       "    .dataframe tbody tr th:only-of-type {\n",
       "        vertical-align: middle;\n",
       "    }\n",
       "\n",
       "    .dataframe tbody tr th {\n",
       "        vertical-align: top;\n",
       "    }\n",
       "\n",
       "    .dataframe thead th {\n",
       "        text-align: right;\n",
       "    }\n",
       "</style>\n",
       "<table border=\"1\" class=\"dataframe\">\n",
       "  <thead>\n",
       "    <tr style=\"text-align: right;\">\n",
       "      <th></th>\n",
       "      <th>Date</th>\n",
       "      <th>Address</th>\n",
       "      <th>Species</th>\n",
       "      <th>Block</th>\n",
       "      <th>Street</th>\n",
       "      <th>Trap</th>\n",
       "      <th>AddressNumberAndStreet</th>\n",
       "      <th>Latitude</th>\n",
       "      <th>Longitude</th>\n",
       "      <th>AddressAccuracy</th>\n",
       "      <th>NumMosquitos</th>\n",
       "      <th>WnvPresent</th>\n",
       "    </tr>\n",
       "  </thead>\n",
       "  <tbody>\n",
       "    <tr>\n",
       "      <th>0</th>\n",
       "      <td>2007-05-29</td>\n",
       "      <td>4100 North Oak Park Avenue, Chicago, IL 60634,...</td>\n",
       "      <td>CULEX PIPIENS/RESTUANS</td>\n",
       "      <td>41</td>\n",
       "      <td>N OAK PARK AVE</td>\n",
       "      <td>T002</td>\n",
       "      <td>4100  N OAK PARK AVE, Chicago, IL</td>\n",
       "      <td>41.954690</td>\n",
       "      <td>-87.800991</td>\n",
       "      <td>9</td>\n",
       "      <td>1</td>\n",
       "      <td>0</td>\n",
       "    </tr>\n",
       "    <tr>\n",
       "      <th>1</th>\n",
       "      <td>2007-05-29</td>\n",
       "      <td>4100 North Oak Park Avenue, Chicago, IL 60634,...</td>\n",
       "      <td>CULEX RESTUANS</td>\n",
       "      <td>41</td>\n",
       "      <td>N OAK PARK AVE</td>\n",
       "      <td>T002</td>\n",
       "      <td>4100  N OAK PARK AVE, Chicago, IL</td>\n",
       "      <td>41.954690</td>\n",
       "      <td>-87.800991</td>\n",
       "      <td>9</td>\n",
       "      <td>1</td>\n",
       "      <td>0</td>\n",
       "    </tr>\n",
       "    <tr>\n",
       "      <th>2</th>\n",
       "      <td>2007-05-29</td>\n",
       "      <td>6200 North Mandell Avenue, Chicago, IL 60646, USA</td>\n",
       "      <td>CULEX RESTUANS</td>\n",
       "      <td>62</td>\n",
       "      <td>N MANDELL AVE</td>\n",
       "      <td>T007</td>\n",
       "      <td>6200  N MANDELL AVE, Chicago, IL</td>\n",
       "      <td>41.994991</td>\n",
       "      <td>-87.769279</td>\n",
       "      <td>9</td>\n",
       "      <td>1</td>\n",
       "      <td>0</td>\n",
       "    </tr>\n",
       "    <tr>\n",
       "      <th>3</th>\n",
       "      <td>2007-05-29</td>\n",
       "      <td>7900 West Foster Avenue, Chicago, IL 60656, USA</td>\n",
       "      <td>CULEX PIPIENS/RESTUANS</td>\n",
       "      <td>79</td>\n",
       "      <td>W FOSTER AVE</td>\n",
       "      <td>T015</td>\n",
       "      <td>7900  W FOSTER AVE, Chicago, IL</td>\n",
       "      <td>41.974089</td>\n",
       "      <td>-87.824812</td>\n",
       "      <td>8</td>\n",
       "      <td>1</td>\n",
       "      <td>0</td>\n",
       "    </tr>\n",
       "    <tr>\n",
       "      <th>4</th>\n",
       "      <td>2007-05-29</td>\n",
       "      <td>7900 West Foster Avenue, Chicago, IL 60656, USA</td>\n",
       "      <td>CULEX RESTUANS</td>\n",
       "      <td>79</td>\n",
       "      <td>W FOSTER AVE</td>\n",
       "      <td>T015</td>\n",
       "      <td>7900  W FOSTER AVE, Chicago, IL</td>\n",
       "      <td>41.974089</td>\n",
       "      <td>-87.824812</td>\n",
       "      <td>8</td>\n",
       "      <td>4</td>\n",
       "      <td>0</td>\n",
       "    </tr>\n",
       "  </tbody>\n",
       "</table>\n",
       "</div>"
      ],
      "text/plain": [
       "         Date                                            Address  \\\n",
       "0  2007-05-29  4100 North Oak Park Avenue, Chicago, IL 60634,...   \n",
       "1  2007-05-29  4100 North Oak Park Avenue, Chicago, IL 60634,...   \n",
       "2  2007-05-29  6200 North Mandell Avenue, Chicago, IL 60646, USA   \n",
       "3  2007-05-29    7900 West Foster Avenue, Chicago, IL 60656, USA   \n",
       "4  2007-05-29    7900 West Foster Avenue, Chicago, IL 60656, USA   \n",
       "\n",
       "                  Species  Block           Street  Trap  \\\n",
       "0  CULEX PIPIENS/RESTUANS     41   N OAK PARK AVE  T002   \n",
       "1          CULEX RESTUANS     41   N OAK PARK AVE  T002   \n",
       "2          CULEX RESTUANS     62    N MANDELL AVE  T007   \n",
       "3  CULEX PIPIENS/RESTUANS     79     W FOSTER AVE  T015   \n",
       "4          CULEX RESTUANS     79     W FOSTER AVE  T015   \n",
       "\n",
       "              AddressNumberAndStreet   Latitude  Longitude  AddressAccuracy  \\\n",
       "0  4100  N OAK PARK AVE, Chicago, IL  41.954690 -87.800991                9   \n",
       "1  4100  N OAK PARK AVE, Chicago, IL  41.954690 -87.800991                9   \n",
       "2   6200  N MANDELL AVE, Chicago, IL  41.994991 -87.769279                9   \n",
       "3    7900  W FOSTER AVE, Chicago, IL  41.974089 -87.824812                8   \n",
       "4    7900  W FOSTER AVE, Chicago, IL  41.974089 -87.824812                8   \n",
       "\n",
       "   NumMosquitos  WnvPresent  \n",
       "0             1           0  \n",
       "1             1           0  \n",
       "2             1           0  \n",
       "3             1           0  \n",
       "4             4           0  "
      ]
     },
     "execution_count": 3,
     "metadata": {},
     "output_type": "execute_result"
    }
   ],
   "source": [
    "# display top 5 rows of train dataset\n",
    "train.head()"
   ]
  },
  {
   "cell_type": "markdown",
   "id": "28625207",
   "metadata": {},
   "source": [
    "## 3. Data Cleaning\n",
    "---"
   ]
  },
  {
   "cell_type": "markdown",
   "id": "c98fea1d",
   "metadata": {},
   "source": [
    "## 3.1. Data"
   ]
  },
  {
   "cell_type": "code",
   "execution_count": 4,
   "id": "1479a82e",
   "metadata": {},
   "outputs": [
    {
     "data": {
      "text/plain": [
       "(10506, 12)"
      ]
     },
     "execution_count": 4,
     "metadata": {},
     "output_type": "execute_result"
    }
   ],
   "source": [
    "# train set dimensions\n",
    "train.shape"
   ]
  },
  {
   "cell_type": "code",
   "execution_count": 5,
   "id": "95967b38",
   "metadata": {},
   "outputs": [
    {
     "name": "stdout",
     "output_type": "stream",
     "text": [
      "<class 'pandas.core.frame.DataFrame'>\n",
      "RangeIndex: 10506 entries, 0 to 10505\n",
      "Data columns (total 12 columns):\n",
      " #   Column                  Non-Null Count  Dtype  \n",
      "---  ------                  --------------  -----  \n",
      " 0   Date                    10506 non-null  object \n",
      " 1   Address                 10506 non-null  object \n",
      " 2   Species                 10506 non-null  object \n",
      " 3   Block                   10506 non-null  int64  \n",
      " 4   Street                  10506 non-null  object \n",
      " 5   Trap                    10506 non-null  object \n",
      " 6   AddressNumberAndStreet  10506 non-null  object \n",
      " 7   Latitude                10506 non-null  float64\n",
      " 8   Longitude               10506 non-null  float64\n",
      " 9   AddressAccuracy         10506 non-null  int64  \n",
      " 10  NumMosquitos            10506 non-null  int64  \n",
      " 11  WnvPresent              10506 non-null  int64  \n",
      "dtypes: float64(2), int64(4), object(6)\n",
      "memory usage: 985.1+ KB\n"
     ]
    }
   ],
   "source": [
    "# check the data types - train set\n",
    "train.info()"
   ]
  },
  {
   "cell_type": "markdown",
   "id": "07c55833",
   "metadata": {},
   "source": [
    "## 3.2. Missing Values"
   ]
  },
  {
   "cell_type": "code",
   "execution_count": 6,
   "id": "3150f0c9",
   "metadata": {},
   "outputs": [
    {
     "data": {
      "text/plain": [
       "Date                      0\n",
       "Address                   0\n",
       "Species                   0\n",
       "Block                     0\n",
       "Street                    0\n",
       "Trap                      0\n",
       "AddressNumberAndStreet    0\n",
       "Latitude                  0\n",
       "Longitude                 0\n",
       "AddressAccuracy           0\n",
       "NumMosquitos              0\n",
       "WnvPresent                0\n",
       "dtype: int64"
      ]
     },
     "execution_count": 6,
     "metadata": {},
     "output_type": "execute_result"
    }
   ],
   "source": [
    "train.isnull().sum()"
   ]
  },
  {
   "cell_type": "markdown",
   "id": "45ade43b",
   "metadata": {},
   "source": [
    "## 3.3. Merge Rows"
   ]
  },
  {
   "cell_type": "code",
   "execution_count": 7,
   "id": "76bccef0",
   "metadata": {},
   "outputs": [
    {
     "data": {
      "text/html": [
       "<div>\n",
       "<style scoped>\n",
       "    .dataframe tbody tr th:only-of-type {\n",
       "        vertical-align: middle;\n",
       "    }\n",
       "\n",
       "    .dataframe tbody tr th {\n",
       "        vertical-align: top;\n",
       "    }\n",
       "\n",
       "    .dataframe thead th {\n",
       "        text-align: right;\n",
       "    }\n",
       "</style>\n",
       "<table border=\"1\" class=\"dataframe\">\n",
       "  <thead>\n",
       "    <tr style=\"text-align: right;\">\n",
       "      <th></th>\n",
       "      <th>Date</th>\n",
       "      <th>Address</th>\n",
       "      <th>Block</th>\n",
       "      <th>Street</th>\n",
       "      <th>AddressNumberAndStreet</th>\n",
       "      <th>Latitude</th>\n",
       "      <th>Longitude</th>\n",
       "      <th>Species</th>\n",
       "      <th>Trap</th>\n",
       "      <th>AddressAccuracy</th>\n",
       "      <th>WnvPresent</th>\n",
       "      <th>tot_mosquitos</th>\n",
       "    </tr>\n",
       "  </thead>\n",
       "  <tbody>\n",
       "    <tr>\n",
       "      <th>0</th>\n",
       "      <td>2007-05-29</td>\n",
       "      <td>1100 Roosevelt Road, Chicago, IL 60608, USA</td>\n",
       "      <td>11</td>\n",
       "      <td>W ROOSEVELT</td>\n",
       "      <td>1100  W ROOSEVELT, Chicago, IL</td>\n",
       "      <td>41.867108</td>\n",
       "      <td>-87.654224</td>\n",
       "      <td>CULEX PIPIENS/RESTUANS</td>\n",
       "      <td>T048</td>\n",
       "      <td>8</td>\n",
       "      <td>0</td>\n",
       "      <td>1</td>\n",
       "    </tr>\n",
       "    <tr>\n",
       "      <th>1</th>\n",
       "      <td>2007-05-29</td>\n",
       "      <td>1100 Roosevelt Road, Chicago, IL 60608, USA</td>\n",
       "      <td>11</td>\n",
       "      <td>W ROOSEVELT</td>\n",
       "      <td>1100  W ROOSEVELT, Chicago, IL</td>\n",
       "      <td>41.867108</td>\n",
       "      <td>-87.654224</td>\n",
       "      <td>CULEX RESTUANS</td>\n",
       "      <td>T048</td>\n",
       "      <td>8</td>\n",
       "      <td>0</td>\n",
       "      <td>2</td>\n",
       "    </tr>\n",
       "    <tr>\n",
       "      <th>2</th>\n",
       "      <td>2007-05-29</td>\n",
       "      <td>1100 South Peoria Street, Chicago, IL 60608, USA</td>\n",
       "      <td>11</td>\n",
       "      <td>S PEORIA ST</td>\n",
       "      <td>1100  S PEORIA ST, Chicago, IL</td>\n",
       "      <td>41.862292</td>\n",
       "      <td>-87.648860</td>\n",
       "      <td>CULEX RESTUANS</td>\n",
       "      <td>T091</td>\n",
       "      <td>8</td>\n",
       "      <td>0</td>\n",
       "      <td>1</td>\n",
       "    </tr>\n",
       "    <tr>\n",
       "      <th>3</th>\n",
       "      <td>2007-05-29</td>\n",
       "      <td>1100 West Chicago Avenue, Chicago, IL 60642, USA</td>\n",
       "      <td>11</td>\n",
       "      <td>W CHICAGO</td>\n",
       "      <td>1100  W CHICAGO, Chicago, IL</td>\n",
       "      <td>41.896282</td>\n",
       "      <td>-87.655232</td>\n",
       "      <td>CULEX RESTUANS</td>\n",
       "      <td>T049</td>\n",
       "      <td>8</td>\n",
       "      <td>0</td>\n",
       "      <td>1</td>\n",
       "    </tr>\n",
       "    <tr>\n",
       "      <th>4</th>\n",
       "      <td>2007-05-29</td>\n",
       "      <td>1500 North Long Avenue, Chicago, IL 60651, USA</td>\n",
       "      <td>15</td>\n",
       "      <td>N LONG AVE</td>\n",
       "      <td>1500  N LONG AVE, Chicago, IL</td>\n",
       "      <td>41.907645</td>\n",
       "      <td>-87.760886</td>\n",
       "      <td>CULEX RESTUANS</td>\n",
       "      <td>T153</td>\n",
       "      <td>8</td>\n",
       "      <td>0</td>\n",
       "      <td>1</td>\n",
       "    </tr>\n",
       "  </tbody>\n",
       "</table>\n",
       "</div>"
      ],
      "text/plain": [
       "         Date                                           Address  Block  \\\n",
       "0  2007-05-29       1100 Roosevelt Road, Chicago, IL 60608, USA     11   \n",
       "1  2007-05-29       1100 Roosevelt Road, Chicago, IL 60608, USA     11   \n",
       "2  2007-05-29  1100 South Peoria Street, Chicago, IL 60608, USA     11   \n",
       "3  2007-05-29  1100 West Chicago Avenue, Chicago, IL 60642, USA     11   \n",
       "4  2007-05-29    1500 North Long Avenue, Chicago, IL 60651, USA     15   \n",
       "\n",
       "         Street          AddressNumberAndStreet   Latitude  Longitude  \\\n",
       "0   W ROOSEVELT  1100  W ROOSEVELT, Chicago, IL  41.867108 -87.654224   \n",
       "1   W ROOSEVELT  1100  W ROOSEVELT, Chicago, IL  41.867108 -87.654224   \n",
       "2   S PEORIA ST  1100  S PEORIA ST, Chicago, IL  41.862292 -87.648860   \n",
       "3     W CHICAGO    1100  W CHICAGO, Chicago, IL  41.896282 -87.655232   \n",
       "4    N LONG AVE   1500  N LONG AVE, Chicago, IL  41.907645 -87.760886   \n",
       "\n",
       "                  Species  Trap  AddressAccuracy  WnvPresent  tot_mosquitos  \n",
       "0  CULEX PIPIENS/RESTUANS  T048                8           0              1  \n",
       "1          CULEX RESTUANS  T048                8           0              2  \n",
       "2          CULEX RESTUANS  T091                8           0              1  \n",
       "3          CULEX RESTUANS  T049                8           0              1  \n",
       "4          CULEX RESTUANS  T153                8           0              1  "
      ]
     },
     "execution_count": 7,
     "metadata": {},
     "output_type": "execute_result"
    }
   ],
   "source": [
    "# group by date, location, trap, and other variables and sum up the number of mosquitos\n",
    "train_clean = pd.DataFrame(train.groupby([\"Date\",\n",
    "                                          \"Address\", \n",
    "                                          \"Block\", \n",
    "                                          \"Street\", \n",
    "                                          \"AddressNumberAndStreet\",\n",
    "                                          \"Latitude\", \n",
    "                                          \"Longitude\", \n",
    "                                          \"Species\",\n",
    "                                          \"Trap\",\n",
    "                                          \"AddressAccuracy\", \n",
    "                                          \"WnvPresent\"\n",
    "                                         ],\n",
    "                                         as_index=True).\\\n",
    "                            agg(tot_mosquitos=(\"NumMosquitos\", \"sum\"))).\\\n",
    "                            reset_index()\n",
    "\n",
    "# display the top 5 rows of the dataset\n",
    "train_clean.head()"
   ]
  },
  {
   "cell_type": "markdown",
   "id": "61997df3",
   "metadata": {},
   "source": [
    "## 3.4. Features Transformation"
   ]
  },
  {
   "cell_type": "code",
   "execution_count": 8,
   "id": "01819e6e",
   "metadata": {},
   "outputs": [
    {
     "name": "stdout",
     "output_type": "stream",
     "text": [
      "['T065A', 'T218C', 'T128A', 'T090B', 'T218B', 'T090C', 'T234', 'T090A', 'T002B', 'T002A', 'T200B', 'T218A', 'T200A']\n"
     ]
    }
   ],
   "source": [
    "# identify the list of traps that are in both train and test set\n",
    "train_trap = list(train[\"Trap\"].unique())\n",
    "test_trap = list(test[\"Trap\"].unique())\n",
    "\n",
    "# identify the list of traps that are in the test set but are not in the train set\n",
    "trap_gap = list(set(test_trap) - set(train_trap))\n",
    "print(trap_gap)"
   ]
  },
  {
   "cell_type": "code",
   "execution_count": 9,
   "id": "a398ef0a",
   "metadata": {},
   "outputs": [],
   "source": [
    "# update train_trap to include traps that are missing\n",
    "train_trap.extend(trap_gap)"
   ]
  },
  {
   "cell_type": "code",
   "execution_count": 10,
   "id": "394eb4d9",
   "metadata": {},
   "outputs": [],
   "source": [
    "# transformation  - create a function to transform features\n",
    "def transform_catfeatures(dataframe):\n",
    "    # species\n",
    "    dataframe[\"pipiens/restuans\"] = dataframe[\"Species\"].map(lambda x: 1 if x == \"CULEX PIPIENS/RESTUANS\" else 0)\n",
    "    dataframe[\"restuans\"] = dataframe[\"Species\"].map(lambda x: 1 if x == \"CULEX RESTUANS\" else 0)\n",
    "    dataframe[\"pipiens\"] = dataframe[\"Species\"].map(lambda x: 1 if x == \"CULEX PIPIENS\" else 0)\n",
    "    dataframe[\"salinarius\"] = dataframe[\"Species\"].map(lambda x: 1 if x == \"CULEX SALINARIUS\" else 0)\n",
    "    dataframe[\"territans\"] = dataframe[\"Species\"].map(lambda x: 1 if x == \"CULEX TERRITANS\" else 0)\n",
    "    dataframe[\"tarsalis\"] = dataframe[\"Species\"].map(lambda x: 1 if x == \"CULEX TARSALIS\" else 0)\n",
    "    dataframe[\"erraticus\"] = dataframe[\"Species\"].map(lambda x: 1 if x == \"CULEX ERRATICUS\" else 0)\n",
    "    dataframe[\"unspecified\"] = dataframe[\"Species\"].map(lambda x: 1 if x == \"UNSPECIFIED CULEX\" else 0)\n",
    "    \n",
    "    # date\n",
    "    dataframe['Date'] = pd.to_datetime(dataframe['Date'])\n",
    "    dataframe[\"month_year\"] = pd.to_datetime(dataframe[\"Date\"]).dt.to_period(\"M\")\n",
    "    dataframe[\"month_year\"] = dataframe[\"month_year\"].astype(\"str\")\n",
    "    dataframe[\"year\"] = pd.DatetimeIndex(dataframe[\"Date\"]).year\n",
    "    dataframe[\"month\"] = pd.DatetimeIndex(dataframe[\"Date\"]).month\n",
    "    dataframe[\"day\"] = pd.DatetimeIndex(dataframe[\"Date\"]).day\n",
    "    \n",
    "    # month\n",
    "    months_list = list(dataframe[\"month\"].unique())\n",
    "    for i, month in enumerate(months_list):\n",
    "        dataframe[str(month)] = dataframe[\"month\"].map(lambda x: 1 if x == month else 0) \n",
    "     \n",
    "    # trap id\n",
    "    for i, trap in enumerate(train_trap):\n",
    "        dataframe[trap] = dataframe[\"Trap\"].map(lambda x: 1 if x == trap else 0)\n",
    "     \n",
    "    return dataframe"
   ]
  },
  {
   "cell_type": "code",
   "execution_count": 11,
   "id": "5ebf24e7",
   "metadata": {},
   "outputs": [],
   "source": [
    "# new train dataset after cleaning and features transformation\n",
    "train_clean = transform_catfeatures(train_clean)\n",
    "\n",
    "# drop 5 from the new train dataset as the month May is not in the test dataset\n",
    "train_clean = train_clean.drop(columns=[\"5\"])"
   ]
  },
  {
   "cell_type": "code",
   "execution_count": 12,
   "id": "961dc22e",
   "metadata": {},
   "outputs": [],
   "source": [
    "# new test dataset after cleaning and features transformation\n",
    "test_clean = transform_catfeatures(test)"
   ]
  },
  {
   "cell_type": "code",
   "execution_count": 13,
   "id": "09ff3dcc",
   "metadata": {},
   "outputs": [
    {
     "data": {
      "text/plain": [
       "(8610, 178)"
      ]
     },
     "execution_count": 13,
     "metadata": {},
     "output_type": "execute_result"
    }
   ],
   "source": [
    "# new train dataset dimensions\n",
    "train_clean.shape"
   ]
  },
  {
   "cell_type": "code",
   "execution_count": 14,
   "id": "316992d7",
   "metadata": {},
   "outputs": [],
   "source": [
    "# save the new datasets to csv\n",
    "train_clean.to_csv(\"../Datasets/train_clean.csv\", index=False)\n",
    "test_clean.to_csv(\"../Datasets/test_clean.csv\", index=False)"
   ]
  }
 ],
 "metadata": {
  "kernelspec": {
   "display_name": "Python 3",
   "language": "python",
   "name": "python3"
  },
  "language_info": {
   "codemirror_mode": {
    "name": "ipython",
    "version": 3
   },
   "file_extension": ".py",
   "mimetype": "text/x-python",
   "name": "python",
   "nbconvert_exporter": "python",
   "pygments_lexer": "ipython3",
   "version": "3.8.8"
  }
 },
 "nbformat": 4,
 "nbformat_minor": 5
}
