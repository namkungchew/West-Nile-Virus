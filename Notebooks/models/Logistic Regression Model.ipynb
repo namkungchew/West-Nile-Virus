{
 "cells": [
  {
   "cell_type": "markdown",
   "id": "9c0fdca2",
   "metadata": {},
   "source": [
    "Given that we have concluded our EDA on the weather dataset, we have concluded that the relevant factors are 'Tavg', 'DewPoint', 'PrecipTotal', 'StnPressure', 'ResultSpeed', 'ResultDir'. We will now combine these weather features with both our train and test dataset.\n",
    "\n",
    "From our research on [Culex Lifecycles](https://www.cdc.gov/mosquitoes/about/life-cycles/culex.html) and a paper on how the [climate affects the West Nile Virus spread](https://www.ncbi.nlm.nih.gov/pmc/articles/PMC4342965/), we have found out that temperature, humidity and rain affects multiple parts of a mosquito's lifecycle. This ranges from 0-10 days from when an egg is laid. Whereas wind and air pressure affect adult mosquitos. We have concluded that temperature, dew point and precipitation will have to be rolled but wind and air pressure will not need to be."
   ]
  },
  {
   "cell_type": "markdown",
   "id": "2c37c644",
   "metadata": {},
   "source": [
    "## Modeling: Logistic Regression"
   ]
  },
  {
   "cell_type": "code",
   "execution_count": 1,
   "id": "f30699e8",
   "metadata": {},
   "outputs": [],
   "source": [
    "# Load in libraries\n",
    "import pandas as pd\n",
    "import numpy as np\n",
    "\n",
    "import matplotlib.pyplot as plt\n",
    "import seaborn as sns\n",
    "\n",
    "from sklearn.preprocessing import StandardScaler\n",
    "from sklearn.feature_selection import SelectKBest, chi2\n",
    "from sklearn.model_selection import train_test_split, GridSearchCV\n",
    "from sklearn.linear_model import LogisticRegression\n",
    "from sklearn.metrics import confusion_matrix, accuracy_score, mean_squared_error, plot_roc_curve, roc_auc_score\n",
    "\n",
    "from imblearn.over_sampling import SMOTE"
   ]
  },
  {
   "cell_type": "markdown",
   "id": "468fda41",
   "metadata": {},
   "source": [
    "### Datasets preparation"
   ]
  },
  {
   "cell_type": "code",
   "execution_count": 2,
   "id": "19a70c74",
   "metadata": {},
   "outputs": [],
   "source": [
    "# Read in datasets\n",
    "train_final = pd.read_csv('./Datasets/train_final.csv')\n",
    "test_final = pd.read_csv('./Datasets/test_final.csv')"
   ]
  },
  {
   "cell_type": "code",
   "execution_count": 3,
   "id": "9150dfc2",
   "metadata": {},
   "outputs": [],
   "source": [
    "# We define X train, X test and y. We drop features that have no relevance to Wnv\n",
    "X_train = train_final.drop(columns=[\n",
    "    'Address', 'Block', 'Street', 'AddressNumberAndStreet', 'Latitude',\n",
    "    'Longitude', 'Species', 'Trap', 'AddressAccuracy', 'tot_mosquitos',\n",
    "    'WnvPresent', 'month_year', 'year', 'month'\n",
    "])\n",
    "\n",
    "y_train = train_final['WnvPresent']\n",
    "\n",
    "X_test = test_final.drop(columns=[\n",
    "    'Address', 'Block', 'Street', 'AddressNumberAndStreet', 'Latitude',\n",
    "    'Longitude', 'Species', 'Trap', 'AddressAccuracy', 'Id', 'month_year',\n",
    "    'year', 'month'\n",
    "])\n",
    "\n",
    "# Scale columns that need to be scaled\n",
    "# Instantiate StandardScaler\n",
    "ss = StandardScaler()\n",
    "# Define list of feature to be scaled\n",
    "scale_list = [\n",
    "    'StnPressure', 'ResultSpeed', 'ResultDir', 'DewPoint', 'DewPoint_roll2',\n",
    "    'DewPoint_roll3', 'DewPoint_roll4', 'DewPoint_roll5', 'DewPoint_roll6',\n",
    "    'Tavg', 'Tavg_roll2', 'Tavg_roll3', 'Tavg_roll4', 'Tavg_roll5',\n",
    "    'Tavg_roll6', 'PrecipTotal', 'PrecipTotal_roll2', 'PrecipTotal_roll3',\n",
    "    'PrecipTotal_roll4', 'PrecipTotal_roll5', 'PrecipTotal_roll6'\n",
    "]\n",
    "\n",
    "# Fit and transform X_train\n",
    "X_train[scale_list] = ss.fit_transform(X_train[scale_list])\n",
    "# Transform X_test\n",
    "X_test[scale_list] = ss.transform(X_test[scale_list])\n",
    "\n",
    "# SMOTE\n",
    "sm = SMOTE(sampling_strategy={1: 8000}, random_state=42)\n",
    "Xsm_train, ysm_train = sm.fit_resample(X_train, y_train)\n",
    "\n",
    "# Dataframes now are Xsm_train, ysm_train and X_test"
   ]
  },
  {
   "cell_type": "markdown",
   "id": "59f0138c",
   "metadata": {},
   "source": [
    "### Raw logistic regression with no tuning"
   ]
  },
  {
   "cell_type": "code",
   "execution_count": 4,
   "id": "1a855146",
   "metadata": {},
   "outputs": [
    {
     "name": "stderr",
     "output_type": "stream",
     "text": [
      "D:\\Users\\user\\anaconda3\\envs\\dsi\\lib\\site-packages\\sklearn\\linear_model\\_logistic.py:763: ConvergenceWarning: lbfgs failed to converge (status=1):\n",
      "STOP: TOTAL NO. of ITERATIONS REACHED LIMIT.\n",
      "\n",
      "Increase the number of iterations (max_iter) or scale the data as shown in:\n",
      "    https://scikit-learn.org/stable/modules/preprocessing.html\n",
      "Please also refer to the documentation for alternative solver options:\n",
      "    https://scikit-learn.org/stable/modules/linear_model.html#logistic-regression\n",
      "  n_iter_i = _check_optimize_result(\n"
     ]
    },
    {
     "data": {
      "text/plain": [
       "LogisticRegression()"
      ]
     },
     "execution_count": 4,
     "metadata": {},
     "output_type": "execute_result"
    }
   ],
   "source": [
    "# Sample with a logistic regression\n",
    "logreg = LogisticRegression()\n",
    "logreg.fit(Xsm_train, ysm_train)"
   ]
  },
  {
   "cell_type": "code",
   "execution_count": 5,
   "id": "02ff0959",
   "metadata": {},
   "outputs": [],
   "source": [
    "# Prepare for Kaggle\n",
    "predict_probs = logreg.predict_proba(X_test).tolist()\n",
    "\n",
    "pred = []\n",
    "for i in range(0, len(predict_probs)):\n",
    "               pred.append(predict_probs[i][1])\n",
    "        \n",
    "sample_submission_logreg = pd.DataFrame()\n",
    "sample_submission_logreg['Id'] = test_final['Id']\n",
    "sample_submission_logreg['WnvPresent'] = pred\n",
    "sample_submission_logreg.reset_index(drop=True, inplace=True)\n",
    "sample_submission_logreg.to_csv('sample_submission_logreg.csv', index=False)"
   ]
  },
  {
   "cell_type": "markdown",
   "id": "063a62ae",
   "metadata": {},
   "source": [
    "### Scoring"
   ]
  },
  {
   "cell_type": "code",
   "execution_count": 6,
   "id": "5c5290b4",
   "metadata": {
    "scrolled": true
   },
   "outputs": [
    {
     "name": "stdout",
     "output_type": "stream",
     "text": [
      "logreg accuracy: 0.9309106667492106\n",
      "logreg roc: 0.9784964506929965\n"
     ]
    }
   ],
   "source": [
    "# Accuracy and roc score of model\n",
    "print('logreg accuracy:', logreg.score(Xsm_train, ysm_train))\n",
    "print(\"logreg roc:\", roc_auc_score(ysm_train,  [i[1] for i in logreg.predict_proba(Xsm_train)]))"
   ]
  },
  {
   "cell_type": "markdown",
   "id": "8a4f0df6",
   "metadata": {},
   "source": [
    "LogisticRegression Kaggle score: **0.68684**"
   ]
  },
  {
   "cell_type": "markdown",
   "id": "c159217a",
   "metadata": {},
   "source": [
    "### GridSearch"
   ]
  },
  {
   "cell_type": "code",
   "execution_count": 7,
   "id": "5fa07462",
   "metadata": {},
   "outputs": [
    {
     "data": {
      "text/plain": [
       "GridSearchCV(cv=5, estimator=LogisticRegression(),\n",
       "             param_grid={'C': (0.1, 1, 10), 'max_iter': [100, 1000, 10000],\n",
       "                         'penalty': ['l1', 'l2'], 'solver': ['liblinear']},\n",
       "             scoring='roc_auc')"
      ]
     },
     "execution_count": 7,
     "metadata": {},
     "output_type": "execute_result"
    }
   ],
   "source": [
    "# GridSearch with the following parameters tuning\n",
    "# 'C': Inverse of regularization strength, smaller C= stronger regularization: [0.1, 1, 10]\n",
    "# 'max_iter': Maximum number of iterations taken for the solvers to converge: [100, 1000, 10000]\n",
    "# 'penalty': Regularize with l1(lasso) or l2(ridge): ['l1', 'l2']\n",
    "# 'solver': 'liblinear'\n",
    "grid = {\n",
    "    'C': (0.1, 1, 10),\n",
    "    'max_iter': [100, 1000, 10000],\n",
    "    'penalty': ['l1', 'l2'],\n",
    "    'solver': ['liblinear']\n",
    "}\n",
    "logreg = LogisticRegression()\n",
    "logreg_cv = GridSearchCV(logreg, grid, cv=5, scoring='roc_auc')\n",
    "logreg_cv.fit(Xsm_train, ysm_train)"
   ]
  },
  {
   "cell_type": "code",
   "execution_count": 8,
   "id": "5b6e1746",
   "metadata": {},
   "outputs": [
    {
     "name": "stdout",
     "output_type": "stream",
     "text": [
      "logreg_cv best parameters:  {'C': 10, 'max_iter': 100, 'penalty': 'l1', 'solver': 'liblinear'}\n"
     ]
    }
   ],
   "source": [
    "# Check the params that give the best accuracy\n",
    "print(\"logreg_cv best parameters: \",logreg_cv.best_params_)"
   ]
  },
  {
   "cell_type": "code",
   "execution_count": 9,
   "id": "48563cc9",
   "metadata": {},
   "outputs": [
    {
     "data": {
      "text/plain": [
       "LogisticRegression(C=10, penalty='l1', solver='liblinear')"
      ]
     },
     "execution_count": 9,
     "metadata": {},
     "output_type": "execute_result"
    }
   ],
   "source": [
    "# Fitting model with the best params\n",
    "logreg2 = LogisticRegression(C= 10, max_iter= 100, penalty= 'l1', solver= 'liblinear')\n",
    "logreg2.fit(Xsm_train, ysm_train)"
   ]
  },
  {
   "cell_type": "code",
   "execution_count": 10,
   "id": "ed08313e",
   "metadata": {},
   "outputs": [],
   "source": [
    "# Prepare for kaggle\n",
    "predict_probs2 = logreg2.predict_proba(X_test).tolist()\n",
    "\n",
    "pred2 = []\n",
    "for i in range(0, len(predict_probs2)):\n",
    "               pred2.append(predict_probs2[i][1])\n",
    "        \n",
    "sample_submission_logreg2 = pd.DataFrame()\n",
    "sample_submission_logreg2['Id'] = test_final['Id']\n",
    "sample_submission_logreg2['WnvPresent'] = pred2\n",
    "sample_submission_logreg2.reset_index(drop=True, inplace=True)\n",
    "sample_submission_logreg2.to_csv('sample_submission_logreg2.csv', index=False)"
   ]
  },
  {
   "cell_type": "markdown",
   "id": "5cb58748",
   "metadata": {},
   "source": [
    "### Scoring"
   ]
  },
  {
   "cell_type": "code",
   "execution_count": 11,
   "id": "f8f83437",
   "metadata": {},
   "outputs": [
    {
     "name": "stdout",
     "output_type": "stream",
     "text": [
      "logreg2 accuracy: 0.9692317216616109\n",
      "logreg2 roc: 0.9920175318901017\n"
     ]
    }
   ],
   "source": [
    "# Accuracy and roc score of model\n",
    "print('logreg2 accuracy:', logreg2.score(Xsm_train, ysm_train))\n",
    "print(\"logreg2 roc:\", roc_auc_score(ysm_train,  [i[1] for i in logreg2.predict_proba(Xsm_train)]))"
   ]
  },
  {
   "cell_type": "markdown",
   "id": "7d11fb74",
   "metadata": {},
   "source": [
    "LogisticRegression(C=10, max_iter=10000, penalty='l1', solver='liblinear') **Kaggle score: 0.73467**"
   ]
  },
  {
   "cell_type": "code",
   "execution_count": 15,
   "id": "86c1f24a",
   "metadata": {},
   "outputs": [
    {
     "data": {
      "image/png": "[encoded data removed]",
      "text/plain": [
       "<Figure size 432x288 with 1 Axes>"
      ]
     },
     "metadata": {
      "needs_background": "light"
     },
     "output_type": "display_data"
    }
   ],
   "source": [
    "plot_roc_curve(logreg2, Xsm_train, ysm_train)\n",
    "plt.show()"
   ]
  },
  {
   "cell_type": "code",
   "execution_count": 12,
   "id": "c8794bf0",
   "metadata": {},
   "outputs": [],
   "source": [
    "# Preparing to create a dataframe with features and coefficients\n",
    "x_coef = list(logreg2.coef_)\n",
    "Xsmcolumns = Xsm_train.columns\n",
    "x_coef = x_coef[0]"
   ]
  },
  {
   "cell_type": "code",
   "execution_count": 13,
   "id": "ba8b258d",
   "metadata": {},
   "outputs": [],
   "source": [
    "# Creating a dataframe with features and coefficients from model\n",
    "r_coef = pd.DataFrame({'Features': Xsmcolumns, 'Coefficient': x_coef})"
   ]
  },
  {
   "cell_type": "code",
   "execution_count": 14,
   "id": "138a7f2e",
   "metadata": {},
   "outputs": [
    {
     "data": {
      "text/html": [
       "<div>\n",
       "<style scoped>\n",
       "    .dataframe tbody tr th:only-of-type {\n",
       "        vertical-align: middle;\n",
       "    }\n",
       "\n",
       "    .dataframe tbody tr th {\n",
       "        vertical-align: top;\n",
       "    }\n",
       "\n",
       "    .dataframe thead th {\n",
       "        text-align: right;\n",
       "    }\n",
       "</style>\n",
       "<table border=\"1\" class=\"dataframe\">\n",
       "  <thead>\n",
       "    <tr style=\"text-align: right;\">\n",
       "      <th></th>\n",
       "      <th>Features</th>\n",
       "      <th>Coefficient</th>\n",
       "    </tr>\n",
       "  </thead>\n",
       "  <tbody>\n",
       "    <tr>\n",
       "      <th>177</th>\n",
       "      <td>Tavg_roll6</td>\n",
       "      <td>2.755077</td>\n",
       "    </tr>\n",
       "    <tr>\n",
       "      <th>167</th>\n",
       "      <td>DewPoint_roll2</td>\n",
       "      <td>0.978291</td>\n",
       "    </tr>\n",
       "    <tr>\n",
       "      <th>182</th>\n",
       "      <td>PrecipTotal_roll5</td>\n",
       "      <td>0.725619</td>\n",
       "    </tr>\n",
       "    <tr>\n",
       "      <th>179</th>\n",
       "      <td>PrecipTotal_roll2</td>\n",
       "      <td>0.610446</td>\n",
       "    </tr>\n",
       "    <tr>\n",
       "      <th>163</th>\n",
       "      <td>StnPressure</td>\n",
       "      <td>0.501334</td>\n",
       "    </tr>\n",
       "    <tr>\n",
       "      <th>...</th>\n",
       "      <td>...</td>\n",
       "      <td>...</td>\n",
       "    </tr>\n",
       "    <tr>\n",
       "      <th>81</th>\n",
       "      <td>T017</td>\n",
       "      <td>-12.214131</td>\n",
       "    </tr>\n",
       "    <tr>\n",
       "      <th>122</th>\n",
       "      <td>T099</td>\n",
       "      <td>-12.247645</td>\n",
       "    </tr>\n",
       "    <tr>\n",
       "      <th>66</th>\n",
       "      <td>T043</td>\n",
       "      <td>-12.321966</td>\n",
       "    </tr>\n",
       "    <tr>\n",
       "      <th>18</th>\n",
       "      <td>T046</td>\n",
       "      <td>-12.558769</td>\n",
       "    </tr>\n",
       "    <tr>\n",
       "      <th>4</th>\n",
       "      <td>territans</td>\n",
       "      <td>-12.577989</td>\n",
       "    </tr>\n",
       "  </tbody>\n",
       "</table>\n",
       "<p>184 rows × 2 columns</p>\n",
       "</div>"
      ],
      "text/plain": [
       "              Features  Coefficient\n",
       "177         Tavg_roll6     2.755077\n",
       "167     DewPoint_roll2     0.978291\n",
       "182  PrecipTotal_roll5     0.725619\n",
       "179  PrecipTotal_roll2     0.610446\n",
       "163        StnPressure     0.501334\n",
       "..                 ...          ...\n",
       "81                T017   -12.214131\n",
       "122               T099   -12.247645\n",
       "66                T043   -12.321966\n",
       "18                T046   -12.558769\n",
       "4            territans   -12.577989\n",
       "\n",
       "[184 rows x 2 columns]"
      ]
     },
     "execution_count": 14,
     "metadata": {},
     "output_type": "execute_result"
    }
   ],
   "source": [
    "# Sorting the data by coefficients in descending order\n",
    "r_coef.sort_values(by = 'Coefficient', ascending = False)"
   ]
  },
  {
   "cell_type": "markdown",
   "id": "c8331e16",
   "metadata": {},
   "source": [
    "### Summary & conclusion"
   ]
  },
  {
   "cell_type": "markdown",
   "id": "e8d46291",
   "metadata": {},
   "source": [
    "|        Model        \t| Features used \t|      Scaling     \t|                                   Best params                                   \t| Accuracy \t|  Roc  \t| Kaggle score \t|\n",
    "|:-------------------:\t|:-------------:\t|:----------------:\t|:-------------------------------------------------------------------------------:\t|:--------:\t|:-----:\t|--------------\t|\n",
    "| Logistic Regression \t|  Default set  \t| Standard & Smote \t| Tavg_roll6, DewPoint_roll2,  PrecipTotal_roll5,  PrecipTotal_roll2, StnPressure \t|   0.969  \t| 0.992 \t| 0.73467      \t|"
   ]
  },
  {
   "cell_type": "markdown",
   "id": "6e043cbd",
   "metadata": {},
   "source": [
    "This is our model with the best Kaggle score of **0.73467**. Logistic regression performs well when the dataset is linearly separable and when there is average or no multicollinearity between independent variables and also the number of mosquitos is likely to follow a poisson distribution which the sigmoid logit link mapping perform well on.  We select the appropriate variables to be used through EDA and Lasso regularization and rolling the relevant weather factors according to the Culex lifecycle thus enabling us to get the best result from Logistic regression. "
   ]
  }
 ],
 "metadata": {
  "kernelspec": {
   "display_name": "Python 3",
   "language": "python",
   "name": "python3"
  },
  "language_info": {
   "codemirror_mode": {
    "name": "ipython",
    "version": 3
   },
   "file_extension": ".py",
   "mimetype": "text/x-python",
   "name": "python",
   "nbconvert_exporter": "python",
   "pygments_lexer": "ipython3",
   "version": "3.8.8"
  },
  "toc": {
   "base_numbering": 1,
   "nav_menu": {},
   "number_sections": true,
   "sideBar": true,
   "skip_h1_title": false,
   "title_cell": "Table of Contents",
   "title_sidebar": "Contents",
   "toc_cell": false,
   "toc_position": {},
   "toc_section_display": true,
   "toc_window_display": false
  }
 },
 "nbformat": 4,
 "nbformat_minor": 5
}
