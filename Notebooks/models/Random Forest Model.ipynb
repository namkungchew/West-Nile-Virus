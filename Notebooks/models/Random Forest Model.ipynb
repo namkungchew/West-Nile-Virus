{
 "cells": [
  {
   "cell_type": "markdown",
   "id": "8c9aba33",
   "metadata": {},
   "source": [
    "## Random Tree Forest Model"
   ]
  },
  {
   "cell_type": "code",
   "execution_count": 1,
   "id": "9f1e4fe5",
   "metadata": {},
   "outputs": [],
   "source": [
    "import pandas as pd\n",
    "import numpy as np\n",
    "\n",
    "import matplotlib.pyplot as plt\n",
    "import seaborn as sns\n",
    "\n",
    "from matplotlib import pyplot as plt\n",
    "from sklearn.metrics import plot_roc_curve, mean_squared_error\n",
    "from sklearn.model_selection import train_test_split, cross_val_score, GridSearchCV\n",
    "from sklearn.ensemble import RandomForestClassifier\n",
    "from sklearn.metrics import plot_confusion_matrix, confusion_matrix, roc_auc_score, roc_curve\n",
    "\n",
    "from sklearn.preprocessing import StandardScaler\n",
    "from imblearn.over_sampling import SMOTE\n",
    "from imblearn.pipeline import Pipeline as imbpipeline\n",
    "from imblearn.ensemble import BalancedRandomForestClassifier"
   ]
  },
  {
   "cell_type": "code",
   "execution_count": 2,
   "id": "f3108f2d",
   "metadata": {},
   "outputs": [],
   "source": [
    "# Read in data\n",
    "train_final = pd.read_csv('../../DataSets/train_final.csv')\n",
    "test_final = pd.read_csv('../../DataSets/test_final.csv')"
   ]
  },
  {
   "cell_type": "code",
   "execution_count": 3,
   "id": "c7257be8",
   "metadata": {},
   "outputs": [],
   "source": [
    "# Set up X_train, y_train, X_test\n",
    "\n",
    "drop_columns =  ['Address', 'Block', 'Street', 'AddressNumberAndStreet',\n",
    "                 'Latitude', 'Longitude', 'Species', 'Trap',                             \n",
    "                 'AddressAccuracy', 'month_year',\n",
    "                 'year', 'month', 'day', 'tarsalis', 'erraticus', 'unspecified',\n",
    "                 'T040', 'T200B', 'T234', 'T090A', 'T090C', 'T090B', \n",
    "                 'T218C', 'T128A', 'T218B', 'T218A', 'T002A', \n",
    "                 'T002B', 'T200A', 'T065A']\n",
    "\n",
    "X = train_final.drop(columns = drop_columns + ['tot_mosquitos', 'WnvPresent'])\n",
    "y = train_final['WnvPresent']\n",
    "kaggle_test = test_final.drop(columns = drop_columns)\n",
    "\n",
    "#train_test_split (before smote so that val set is not leaked when smote)\n",
    "X_train, X_val, y_train, y_val = train_test_split(X,\n",
    "                                                  y,\n",
    "                                                  test_size= 0.25,\n",
    "                                                  random_state= 42,\n",
    "                                                  stratify= y)\n",
    "\n",
    "#Scaling\n",
    "ss = StandardScaler()\n",
    "X_train_ss = ss.fit_transform(X_train)\n",
    "X_val_ss = ss.transform(X_val)\n",
    "\n",
    "# SMOTE\n",
    "sm = SMOTE(random_state = 42)\n",
    "Xsm_train, ysm_train = sm.fit_resample(X_train_ss, y_train)"
   ]
  },
  {
   "cell_type": "markdown",
   "id": "d1bf54f2",
   "metadata": {},
   "source": [
    "### Baseline Scores"
   ]
  },
  {
   "cell_type": "markdown",
   "id": "cf272a6c",
   "metadata": {},
   "source": [
    "#### Before Smote"
   ]
  },
  {
   "cell_type": "code",
   "execution_count": 4,
   "id": "795ccd89",
   "metadata": {},
   "outputs": [
    {
     "data": {
      "text/plain": [
       "0    0.946922\n",
       "1    0.053078\n",
       "Name: WnvPresent, dtype: float64"
      ]
     },
     "execution_count": 4,
     "metadata": {},
     "output_type": "execute_result"
    }
   ],
   "source": [
    "y.value_counts(normalize = True)"
   ]
  },
  {
   "cell_type": "code",
   "execution_count": 5,
   "id": "3b6762ce",
   "metadata": {},
   "outputs": [
    {
     "data": {
      "text/plain": [
       "0    0.946879\n",
       "1    0.053121\n",
       "Name: WnvPresent, dtype: float64"
      ]
     },
     "execution_count": 5,
     "metadata": {},
     "output_type": "execute_result"
    }
   ],
   "source": [
    "y_train.value_counts(normalize = True)"
   ]
  },
  {
   "cell_type": "markdown",
   "id": "0aee9ba5",
   "metadata": {},
   "source": [
    "#### After Smote"
   ]
  },
  {
   "cell_type": "code",
   "execution_count": 6,
   "id": "412c2c6a",
   "metadata": {},
   "outputs": [
    {
     "data": {
      "text/plain": [
       "0    0.5\n",
       "1    0.5\n",
       "Name: WnvPresent, dtype: float64"
      ]
     },
     "execution_count": 6,
     "metadata": {},
     "output_type": "execute_result"
    }
   ],
   "source": [
    "ysm_train.value_counts(normalize = True)"
   ]
  },
  {
   "cell_type": "markdown",
   "id": "a5567471",
   "metadata": {},
   "source": [
    "### Model 1: 1st Run"
   ]
  },
  {
   "cell_type": "code",
   "execution_count": 7,
   "id": "d276f0c7",
   "metadata": {},
   "outputs": [],
   "source": [
    "rt1 = RandomForestClassifier(n_estimators = 100, n_jobs = -1)\n",
    "params1 = {'max_features': [0.1,0.2,0.3],\n",
    "          'min_samples_leaf': [10,50,100],\n",
    "          'max_depth': [15,25],\n",
    "          'min_samples_split': [3,6],          \n",
    "          }\n",
    "        \n",
    "gs1 = GridSearchCV(rt1,\n",
    "                   param_grid= params1,\n",
    "                   cv = 5,\n",
    "                   scoring = 'roc_auc',\n",
    "                   n_jobs = -1\n",
    "                  )"
   ]
  },
  {
   "cell_type": "code",
   "execution_count": 8,
   "id": "4b56d0bf",
   "metadata": {},
   "outputs": [
    {
     "data": {
      "text/plain": [
       "GridSearchCV(cv=5, estimator=RandomForestClassifier(n_jobs=-1), n_jobs=-1,\n",
       "             param_grid={'max_depth': [15, 25], 'max_features': [0.1, 0.2, 0.3],\n",
       "                         'min_samples_leaf': [10, 50, 100],\n",
       "                         'min_samples_split': [3, 6]},\n",
       "             scoring='roc_auc')"
      ]
     },
     "execution_count": 8,
     "metadata": {},
     "output_type": "execute_result"
    }
   ],
   "source": [
    "gs1.fit(Xsm_train, ysm_train)"
   ]
  },
  {
   "cell_type": "code",
   "execution_count": 9,
   "id": "c62d5863",
   "metadata": {},
   "outputs": [
    {
     "name": "stdout",
     "output_type": "stream",
     "text": [
      "Best Grid Search Score: 0.9869615269486702\n",
      "Best Params: {'max_depth': 25, 'max_features': 0.3, 'min_samples_leaf': 10, 'min_samples_split': 3}\n",
      "Best Model train set Score: 0.9598462544978738\n",
      "Best Model val set Score: 0.9400836042731073\n",
      "Train set ROC Score: 0.9920937232384069\n",
      "Val set ROC Score: 0.8504448344991955\n"
     ]
    },
    {
     "data": {
      "text/html": [
       "<div>\n",
       "<style scoped>\n",
       "    .dataframe tbody tr th:only-of-type {\n",
       "        vertical-align: middle;\n",
       "    }\n",
       "\n",
       "    .dataframe tbody tr th {\n",
       "        vertical-align: top;\n",
       "    }\n",
       "\n",
       "    .dataframe thead th {\n",
       "        text-align: right;\n",
       "    }\n",
       "</style>\n",
       "<table border=\"1\" class=\"dataframe\">\n",
       "  <thead>\n",
       "    <tr style=\"text-align: right;\">\n",
       "      <th></th>\n",
       "      <th>0</th>\n",
       "      <th>1</th>\n",
       "    </tr>\n",
       "  </thead>\n",
       "  <tbody>\n",
       "    <tr>\n",
       "      <th>0</th>\n",
       "      <td>Accurary</td>\n",
       "      <td>0.940084</td>\n",
       "    </tr>\n",
       "    <tr>\n",
       "      <th>1</th>\n",
       "      <td>Misclassification</td>\n",
       "      <td>0.059916</td>\n",
       "    </tr>\n",
       "    <tr>\n",
       "      <th>2</th>\n",
       "      <td>Sensitivity</td>\n",
       "      <td>0.087719</td>\n",
       "    </tr>\n",
       "    <tr>\n",
       "      <th>3</th>\n",
       "      <td>Specificity</td>\n",
       "      <td>0.987739</td>\n",
       "    </tr>\n",
       "    <tr>\n",
       "      <th>4</th>\n",
       "      <td>Precision</td>\n",
       "      <td>0.285714</td>\n",
       "    </tr>\n",
       "  </tbody>\n",
       "</table>\n",
       "</div>"
      ],
      "text/plain": [
       "                   0         1\n",
       "0           Accurary  0.940084\n",
       "1  Misclassification  0.059916\n",
       "2        Sensitivity  0.087719\n",
       "3        Specificity  0.987739\n",
       "4          Precision  0.285714"
      ]
     },
     "execution_count": 9,
     "metadata": {},
     "output_type": "execute_result"
    },
    {
     "data": {
      "image/png": "[encoded data removed]",
      "text/plain": [
       "<Figure size 432x288 with 1 Axes>"
      ]
     },
     "metadata": {
      "needs_background": "light"
     },
     "output_type": "display_data"
    },
    {
     "data": {
      "image/png": "[encoded data removed]",
      "text/plain": [
       "<Figure size 432x288 with 2 Axes>"
      ]
     },
     "metadata": {
      "needs_background": "light"
     },
     "output_type": "display_data"
    }
   ],
   "source": [
    "print(f'Best Grid Search Score: {gs1.best_score_}')\n",
    "print(f'Best Params: {gs1.best_params_}')\n",
    "\n",
    "model1 = gs1.best_estimator_\n",
    "print(f'Best Model train set Score: {model1.score(Xsm_train, ysm_train)}')\n",
    "print(f'Best Model val set Score: {model1.score(X_val_ss,y_val)}')\n",
    "print(f'Train set ROC Score: {roc_auc_score(ysm_train, [i[1] for i in model1.predict_proba(Xsm_train)])}')\n",
    "print(f'Val set ROC Score: {roc_auc_score(y_val, [i[1] for i in model1.predict_proba(X_val_ss)])}')\n",
    "plot_roc_curve(model1, X_val_ss, y_val);\n",
    "\n",
    "plot_confusion_matrix(model1, X_val_ss, y_val, cmap='Blues', values_format='d');\n",
    "tn, fp, fn, tp = confusion_matrix(y_val, model1.predict(X_val_ss)).ravel()\n",
    "pd.DataFrame([\n",
    "    ('Accurary', (tn+tp)/(tn+tp+fp+fn)),\n",
    "    ('Misclassification', (fp+fn)/(tn+tp+fp+fn)),\n",
    "    ('Sensitivity', tp/(tp+fn)),\n",
    "    ('Specificity', tn/(tn+fp)),\n",
    "    ('Precision', tp/(tp+fp))\n",
    "])"
   ]
  },
  {
   "cell_type": "markdown",
   "id": "619db088",
   "metadata": {},
   "source": [
    "Looks overfitted. This is expected as our gridsearch is running over the dataset whereby SMOTE have oversampled the minority class."
   ]
  },
  {
   "cell_type": "markdown",
   "id": "645c3a54",
   "metadata": {},
   "source": [
    "### Model 2: Limiting max_depth and ccp_alpha to solve overfitting"
   ]
  },
  {
   "cell_type": "code",
   "execution_count": 10,
   "id": "1bb6b16d",
   "metadata": {},
   "outputs": [],
   "source": [
    "rt2 = RandomForestClassifier(n_estimators = 200, n_jobs = -1)\n",
    "params2 = {'max_features': [0.1,0.2],\n",
    "           'min_samples_leaf': [100,200],\n",
    "           'max_depth': [10],\n",
    "           'min_samples_split': [3,6],     \n",
    "           'ccp_alpha':[0.1],\n",
    "          }  \n",
    "           \n",
    "gs2 = GridSearchCV(rt2,\n",
    "                   param_grid= params2,\n",
    "                   cv = 5,\n",
    "                   scoring = 'roc_auc',\n",
    "                   n_jobs = -1\n",
    "                  )"
   ]
  },
  {
   "cell_type": "code",
   "execution_count": 11,
   "id": "d6cd378c",
   "metadata": {},
   "outputs": [
    {
     "data": {
      "text/plain": [
       "GridSearchCV(cv=5,\n",
       "             estimator=RandomForestClassifier(n_estimators=200, n_jobs=-1),\n",
       "             n_jobs=-1,\n",
       "             param_grid={'ccp_alpha': [0.1], 'max_depth': [10],\n",
       "                         'max_features': [0.1, 0.2],\n",
       "                         'min_samples_leaf': [100, 200],\n",
       "                         'min_samples_split': [3, 6]},\n",
       "             scoring='roc_auc')"
      ]
     },
     "execution_count": 11,
     "metadata": {},
     "output_type": "execute_result"
    }
   ],
   "source": [
    "gs2.fit(Xsm_train, ysm_train)"
   ]
  },
  {
   "cell_type": "code",
   "execution_count": 12,
   "id": "a5f6c302",
   "metadata": {},
   "outputs": [
    {
     "name": "stdout",
     "output_type": "stream",
     "text": [
      "Best Grid Search Score: 0.7514295828283543\n",
      "Best Params: {'ccp_alpha': 0.1, 'max_depth': 10, 'max_features': 0.2, 'min_samples_leaf': 100, 'min_samples_split': 6}\n",
      "Best Model train set Score: 0.7418220477592411\n",
      "Best Model val set Score: 0.7004180213655364\n",
      "Train set ROC Score: 0.7417963528847653\n",
      "Val set ROC Score: 0.7010488457534223\n"
     ]
    },
    {
     "data": {
      "text/html": [
       "<div>\n",
       "<style scoped>\n",
       "    .dataframe tbody tr th:only-of-type {\n",
       "        vertical-align: middle;\n",
       "    }\n",
       "\n",
       "    .dataframe tbody tr th {\n",
       "        vertical-align: top;\n",
       "    }\n",
       "\n",
       "    .dataframe thead th {\n",
       "        text-align: right;\n",
       "    }\n",
       "</style>\n",
       "<table border=\"1\" class=\"dataframe\">\n",
       "  <thead>\n",
       "    <tr style=\"text-align: right;\">\n",
       "      <th></th>\n",
       "      <th>0</th>\n",
       "      <th>1</th>\n",
       "    </tr>\n",
       "  </thead>\n",
       "  <tbody>\n",
       "    <tr>\n",
       "      <th>0</th>\n",
       "      <td>Accurary</td>\n",
       "      <td>0.700418</td>\n",
       "    </tr>\n",
       "    <tr>\n",
       "      <th>1</th>\n",
       "      <td>Misclassification</td>\n",
       "      <td>0.299582</td>\n",
       "    </tr>\n",
       "    <tr>\n",
       "      <th>2</th>\n",
       "      <td>Sensitivity</td>\n",
       "      <td>0.701754</td>\n",
       "    </tr>\n",
       "    <tr>\n",
       "      <th>3</th>\n",
       "      <td>Specificity</td>\n",
       "      <td>0.700343</td>\n",
       "    </tr>\n",
       "    <tr>\n",
       "      <th>4</th>\n",
       "      <td>Precision</td>\n",
       "      <td>0.115774</td>\n",
       "    </tr>\n",
       "  </tbody>\n",
       "</table>\n",
       "</div>"
      ],
      "text/plain": [
       "                   0         1\n",
       "0           Accurary  0.700418\n",
       "1  Misclassification  0.299582\n",
       "2        Sensitivity  0.701754\n",
       "3        Specificity  0.700343\n",
       "4          Precision  0.115774"
      ]
     },
     "execution_count": 12,
     "metadata": {},
     "output_type": "execute_result"
    },
    {
     "data": {
      "image/png": "[encoded data removed]",
      "text/plain": [
       "<Figure size 432x288 with 1 Axes>"
      ]
     },
     "metadata": {
      "needs_background": "light"
     },
     "output_type": "display_data"
    },
    {
     "data": {
      "image/png": "[encoded data removed]",
      "text/plain": [
       "<Figure size 432x288 with 2 Axes>"
      ]
     },
     "metadata": {
      "needs_background": "light"
     },
     "output_type": "display_data"
    }
   ],
   "source": [
    "print(f'Best Grid Search Score: {gs2.best_score_}')\n",
    "print(f'Best Params: {gs2.best_params_}')\n",
    "\n",
    "model2 = gs2.best_estimator_\n",
    "print(f'Best Model train set Score: {model2.score(Xsm_train, ysm_train)}')\n",
    "print(f'Best Model val set Score: {model2.score(X_val_ss,y_val)}')\n",
    "print(f'Train set ROC Score: {roc_auc_score(ysm_train, [i[1] for i in model2.predict_proba(Xsm_train)])}')\n",
    "print(f'Val set ROC Score: {roc_auc_score(y_val, [i[1] for i in model2.predict_proba(X_val_ss)])}')\n",
    "plot_roc_curve(model2, X_val_ss, y_val);\n",
    "\n",
    "plot_confusion_matrix(model2, X_val_ss, y_val, cmap='Blues', values_format='d');\n",
    "tn, fp, fn, tp = confusion_matrix(y_val, model2.predict(X_val_ss)).ravel()\n",
    "pd.DataFrame([\n",
    "    ('Accurary', (tn+tp)/(tn+tp+fp+fn)),\n",
    "    ('Misclassification', (fp+fn)/(tn+tp+fp+fn)),\n",
    "    ('Sensitivity', tp/(tp+fn)),\n",
    "    ('Specificity', tn/(tn+fp)),\n",
    "    ('Precision', tp/(tp+fp))\n",
    "])"
   ]
  },
  {
   "cell_type": "markdown",
   "id": "4954207e",
   "metadata": {},
   "source": [
    "We tried a couple of different hyperparameters within GridSearch but the resulting model is always overfitted since this is an imbalance class. GridSearch always return the hyperparameters that return the highest scoring but this doesn't help with overfitting. Even increasing the folds of crossvalidation doesn't helps here as the input to GridSearch is after using SMOTE where the minority class is oversampled and not an imbalanced class. \n",
    "\n",
    "In the end, we choose to keep the tree from overgrowing by capping max_depth and introducing ccp_alpha while gridsearching over the rest and the score drop alot."
   ]
  },
  {
   "cell_type": "markdown",
   "id": "b3ff29a4",
   "metadata": {},
   "source": [
    "### Model 3: Using Imbalance Pipeline to perform GridSearchCV better"
   ]
  },
  {
   "cell_type": "code",
   "execution_count": 13,
   "id": "731a999e",
   "metadata": {},
   "outputs": [],
   "source": [
    "pipe = imbpipeline([('ss', StandardScaler()),\n",
    "                    ('smote', SMOTE(random_state = 42)),\n",
    "                    ('rt', RandomForestClassifier(n_estimators = 500, n_jobs = -1))\n",
    "                   ])\n",
    "\n",
    "        \n",
    "params3 = {'rt__max_features': [0.1, 0.2, 0.3],\n",
    "           'rt__min_samples_leaf': [5, 10, 30],\n",
    "           'rt__max_depth': [10, 15, 25],      \n",
    "           'rt__min_samples_split': [3, 6],\n",
    "          }\n",
    "\n",
    "gs3 = GridSearchCV(pipe,\n",
    "                   param_grid= params3,\n",
    "                   cv = 5,\n",
    "                   scoring = 'roc_auc',\n",
    "                   n_jobs = -1\n",
    "                  )"
   ]
  },
  {
   "cell_type": "code",
   "execution_count": 14,
   "id": "3773bc73",
   "metadata": {},
   "outputs": [
    {
     "data": {
      "text/plain": [
       "GridSearchCV(cv=5,\n",
       "             estimator=Pipeline(steps=[('ss', StandardScaler()),\n",
       "                                       ('smote', SMOTE(random_state=42)),\n",
       "                                       ('rt',\n",
       "                                        RandomForestClassifier(n_estimators=500,\n",
       "                                                               n_jobs=-1))]),\n",
       "             n_jobs=-1,\n",
       "             param_grid={'rt__max_depth': [10, 15, 25],\n",
       "                         'rt__max_features': [0.1, 0.2, 0.3],\n",
       "                         'rt__min_samples_leaf': [5, 10, 30],\n",
       "                         'rt__min_samples_split': [3, 6]},\n",
       "             scoring='roc_auc')"
      ]
     },
     "execution_count": 14,
     "metadata": {},
     "output_type": "execute_result"
    }
   ],
   "source": [
    "gs3.fit(X_train, y_train)"
   ]
  },
  {
   "cell_type": "code",
   "execution_count": 15,
   "id": "4a53ba22",
   "metadata": {},
   "outputs": [
    {
     "name": "stdout",
     "output_type": "stream",
     "text": [
      "Best Grid Search Score: 0.8097728363868869\n",
      "Best Params: {'rt__max_depth': 15, 'rt__max_features': 0.1, 'rt__min_samples_leaf': 5, 'rt__min_samples_split': 3}\n",
      "Best Model train set Score: 0.9304630633421094\n",
      "Best Model val set Score: 0.9256850905712959\n",
      "Train set ROC Score: 0.8837884375676529\n",
      "Val set ROC Score: 0.85516636121938\n"
     ]
    },
    {
     "data": {
      "text/html": [
       "<div>\n",
       "<style scoped>\n",
       "    .dataframe tbody tr th:only-of-type {\n",
       "        vertical-align: middle;\n",
       "    }\n",
       "\n",
       "    .dataframe tbody tr th {\n",
       "        vertical-align: top;\n",
       "    }\n",
       "\n",
       "    .dataframe thead th {\n",
       "        text-align: right;\n",
       "    }\n",
       "</style>\n",
       "<table border=\"1\" class=\"dataframe\">\n",
       "  <thead>\n",
       "    <tr style=\"text-align: right;\">\n",
       "      <th></th>\n",
       "      <th>0</th>\n",
       "      <th>1</th>\n",
       "    </tr>\n",
       "  </thead>\n",
       "  <tbody>\n",
       "    <tr>\n",
       "      <th>0</th>\n",
       "      <td>Accurary</td>\n",
       "      <td>0.925685</td>\n",
       "    </tr>\n",
       "    <tr>\n",
       "      <th>1</th>\n",
       "      <td>Misclassification</td>\n",
       "      <td>0.074315</td>\n",
       "    </tr>\n",
       "    <tr>\n",
       "      <th>2</th>\n",
       "      <td>Sensitivity</td>\n",
       "      <td>0.157895</td>\n",
       "    </tr>\n",
       "    <tr>\n",
       "      <th>3</th>\n",
       "      <td>Specificity</td>\n",
       "      <td>0.968612</td>\n",
       "    </tr>\n",
       "    <tr>\n",
       "      <th>4</th>\n",
       "      <td>Precision</td>\n",
       "      <td>0.219512</td>\n",
       "    </tr>\n",
       "  </tbody>\n",
       "</table>\n",
       "</div>"
      ],
      "text/plain": [
       "                   0         1\n",
       "0           Accurary  0.925685\n",
       "1  Misclassification  0.074315\n",
       "2        Sensitivity  0.157895\n",
       "3        Specificity  0.968612\n",
       "4          Precision  0.219512"
      ]
     },
     "execution_count": 15,
     "metadata": {},
     "output_type": "execute_result"
    },
    {
     "data": {
      "image/png": "[encoded data removed]",
      "text/plain": [
       "<Figure size 432x288 with 1 Axes>"
      ]
     },
     "metadata": {
      "needs_background": "light"
     },
     "output_type": "display_data"
    },
    {
     "data": {
      "image/png": "[encoded data removed]",
      "text/plain": [
       "<Figure size 432x288 with 2 Axes>"
      ]
     },
     "metadata": {
      "needs_background": "light"
     },
     "output_type": "display_data"
    }
   ],
   "source": [
    "print(f'Best Grid Search Score: {gs3.best_score_}')\n",
    "print(f'Best Params: {gs3.best_params_}')\n",
    "\n",
    "model3 = gs3.best_estimator_\n",
    "print(f'Best Model train set Score: {model3.score(X_train, y_train)}')\n",
    "print(f'Best Model val set Score: {model3.score(X_val,y_val)}')\n",
    "print(f'Train set ROC Score: {roc_auc_score(y_train, [i[1] for i in model3.predict_proba(X_train)])}')\n",
    "print(f'Val set ROC Score: {roc_auc_score(y_val, [i[1] for i in model3.predict_proba(X_val)])}')\n",
    "plot_roc_curve(model3, X_val, y_val);\n",
    "\n",
    "plot_confusion_matrix(model3, X_val, y_val, cmap='Blues', values_format='d');\n",
    "tn, fp, fn, tp = confusion_matrix(y_val, model3.predict(X_val)).ravel()\n",
    "pd.DataFrame([\n",
    "    ('Accurary', (tn+tp)/(tn+tp+fp+fn)),\n",
    "    ('Misclassification', (fp+fn)/(tn+tp+fp+fn)),\n",
    "    ('Sensitivity', tp/(tp+fn)),\n",
    "    ('Specificity', tn/(tn+fp)),\n",
    "    ('Precision', tp/(tp+fp))\n",
    "])"
   ]
  },
  {
   "cell_type": "markdown",
   "id": "6d3eaee7",
   "metadata": {},
   "source": [
    "With the pipeline from the imblearn library, only can we GridSearch meaningfully. The metrics results from this model surpass model 1 and 2 and the model return with the best Val Set ROC-AUC Score of all the models."
   ]
  },
  {
   "cell_type": "markdown",
   "id": "bd416a85",
   "metadata": {},
   "source": [
    "### Model 4: BalancedRandomForestClassifier"
   ]
  },
  {
   "cell_type": "code",
   "execution_count": 16,
   "id": "6d7b8f8b",
   "metadata": {},
   "outputs": [],
   "source": [
    "rt4 = BalancedRandomForestClassifier(n_estimators = 500, random_state=42, n_jobs = -1)\n",
    "\n",
    "params4 = {'max_features': [0.1, 0.2, 0.3],\n",
    "           'min_samples_leaf': [5, 10, 30],\n",
    "           'max_depth': [10, 15, 25],\n",
    "           'min_samples_split': [3, 6],\n",
    "          }\n",
    "           \n",
    "gs4 = GridSearchCV(rt4,\n",
    "                   param_grid= params4,\n",
    "                   cv = 5,\n",
    "                   scoring = 'roc_auc',\n",
    "                   n_jobs = -1\n",
    "                  )"
   ]
  },
  {
   "cell_type": "code",
   "execution_count": 17,
   "id": "dd1b6268",
   "metadata": {},
   "outputs": [
    {
     "data": {
      "text/plain": [
       "GridSearchCV(cv=5,\n",
       "             estimator=BalancedRandomForestClassifier(n_estimators=500,\n",
       "                                                      n_jobs=-1,\n",
       "                                                      random_state=42),\n",
       "             n_jobs=-1,\n",
       "             param_grid={'max_depth': [10, 15, 25],\n",
       "                         'max_features': [0.1, 0.2, 0.3],\n",
       "                         'min_samples_leaf': [5, 10, 30],\n",
       "                         'min_samples_split': [3, 6]},\n",
       "             scoring='roc_auc')"
      ]
     },
     "execution_count": 17,
     "metadata": {},
     "output_type": "execute_result"
    }
   ],
   "source": [
    "gs4.fit(X_train_ss, y_train)"
   ]
  },
  {
   "cell_type": "code",
   "execution_count": 18,
   "id": "8eba27a0",
   "metadata": {},
   "outputs": [
    {
     "name": "stdout",
     "output_type": "stream",
     "text": [
      "Best Grid Search Score: 0.8137351309630899\n",
      "Best Params: {'max_depth': 15, 'max_features': 0.3, 'min_samples_leaf': 5, 'min_samples_split': 3}\n",
      "Best Model train set Score: 0.6958339786278458\n",
      "Best Model val set Score: 0.688341848583372\n",
      "Train set ROC Score: 0.8500819225769658\n",
      "Val set ROC Score: 0.839046488216618\n"
     ]
    },
    {
     "data": {
      "text/html": [
       "<div>\n",
       "<style scoped>\n",
       "    .dataframe tbody tr th:only-of-type {\n",
       "        vertical-align: middle;\n",
       "    }\n",
       "\n",
       "    .dataframe tbody tr th {\n",
       "        vertical-align: top;\n",
       "    }\n",
       "\n",
       "    .dataframe thead th {\n",
       "        text-align: right;\n",
       "    }\n",
       "</style>\n",
       "<table border=\"1\" class=\"dataframe\">\n",
       "  <thead>\n",
       "    <tr style=\"text-align: right;\">\n",
       "      <th></th>\n",
       "      <th>0</th>\n",
       "      <th>1</th>\n",
       "    </tr>\n",
       "  </thead>\n",
       "  <tbody>\n",
       "    <tr>\n",
       "      <th>0</th>\n",
       "      <td>Accurary</td>\n",
       "      <td>0.688342</td>\n",
       "    </tr>\n",
       "    <tr>\n",
       "      <th>1</th>\n",
       "      <td>Misclassification</td>\n",
       "      <td>0.311658</td>\n",
       "    </tr>\n",
       "    <tr>\n",
       "      <th>2</th>\n",
       "      <td>Sensitivity</td>\n",
       "      <td>0.815789</td>\n",
       "    </tr>\n",
       "    <tr>\n",
       "      <th>3</th>\n",
       "      <td>Specificity</td>\n",
       "      <td>0.681216</td>\n",
       "    </tr>\n",
       "    <tr>\n",
       "      <th>4</th>\n",
       "      <td>Precision</td>\n",
       "      <td>0.125168</td>\n",
       "    </tr>\n",
       "  </tbody>\n",
       "</table>\n",
       "</div>"
      ],
      "text/plain": [
       "                   0         1\n",
       "0           Accurary  0.688342\n",
       "1  Misclassification  0.311658\n",
       "2        Sensitivity  0.815789\n",
       "3        Specificity  0.681216\n",
       "4          Precision  0.125168"
      ]
     },
     "execution_count": 18,
     "metadata": {},
     "output_type": "execute_result"
    },
    {
     "data": {
      "image/png": "[encoded data removed]",
      "text/plain": [
       "<Figure size 432x288 with 1 Axes>"
      ]
     },
     "metadata": {
      "needs_background": "light"
     },
     "output_type": "display_data"
    },
    {
     "data": {
      "image/png": "[encoded data removed]",
      "text/plain": [
       "<Figure size 432x288 with 2 Axes>"
      ]
     },
     "metadata": {
      "needs_background": "light"
     },
     "output_type": "display_data"
    }
   ],
   "source": [
    "print(f'Best Grid Search Score: {gs4.best_score_}')\n",
    "print(f'Best Params: {gs4.best_params_}')\n",
    "\n",
    "model4 = gs4.best_estimator_\n",
    "print(f'Best Model train set Score: {model4.score(X_train_ss, y_train)}')\n",
    "print(f'Best Model val set Score: {model4.score(X_val_ss,y_val)}')\n",
    "print(f'Train set ROC Score: {roc_auc_score(y_train, [i[1] for i in model4.predict_proba(X_train_ss)])}')\n",
    "print(f'Val set ROC Score: {roc_auc_score(y_val, [i[1] for i in model4.predict_proba(X_val_ss)])}')\n",
    "plot_roc_curve(model4, X_val_ss, y_val);\n",
    "\n",
    "plot_confusion_matrix(model4, X_val_ss, y_val, cmap='Blues', values_format='d');\n",
    "tn, fp, fn, tp = confusion_matrix(y_val, model4.predict(X_val_ss)).ravel()\n",
    "pd.DataFrame([\n",
    "    ('Accurary', (tn+tp)/(tn+tp+fp+fn)),\n",
    "    ('Misclassification', (fp+fn)/(tn+tp+fp+fn)),\n",
    "    ('Sensitivity', tp/(tp+fn)),\n",
    "    ('Specificity', tn/(tn+fp)),\n",
    "    ('Precision', tp/(tp+fp))\n",
    "])"
   ]
  },
  {
   "cell_type": "markdown",
   "id": "7a372275",
   "metadata": {},
   "source": [
    "We are trying out the BalancedRandomForestClassifier here which is similar to using the Pipeline from the imblearn library. The accuracy is lower than Model3 while the ROC_AUC scores are comparable."
   ]
  },
  {
   "cell_type": "markdown",
   "id": "a4c70983",
   "metadata": {},
   "source": [
    "### Best Model: Model 3"
   ]
  },
  {
   "cell_type": "markdown",
   "id": "9f176d32",
   "metadata": {},
   "source": [
    "#### Most important Features:"
   ]
  },
  {
   "cell_type": "code",
   "execution_count": 25,
   "id": "b027dc2f",
   "metadata": {},
   "outputs": [
    {
     "data": {
      "text/html": [
       "<div>\n",
       "<style scoped>\n",
       "    .dataframe tbody tr th:only-of-type {\n",
       "        vertical-align: middle;\n",
       "    }\n",
       "\n",
       "    .dataframe tbody tr th {\n",
       "        vertical-align: top;\n",
       "    }\n",
       "\n",
       "    .dataframe thead th {\n",
       "        text-align: right;\n",
       "    }\n",
       "</style>\n",
       "<table border=\"1\" class=\"dataframe\">\n",
       "  <thead>\n",
       "    <tr style=\"text-align: right;\">\n",
       "      <th></th>\n",
       "      <th>features</th>\n",
       "    </tr>\n",
       "  </thead>\n",
       "  <tbody>\n",
       "    <tr>\n",
       "      <th>8</th>\n",
       "      <td>0.106106</td>\n",
       "    </tr>\n",
       "    <tr>\n",
       "      <th>T900</th>\n",
       "      <td>0.071612</td>\n",
       "    </tr>\n",
       "    <tr>\n",
       "      <th>pipiens</th>\n",
       "      <td>0.063308</td>\n",
       "    </tr>\n",
       "    <tr>\n",
       "      <th>restuans</th>\n",
       "      <td>0.055033</td>\n",
       "    </tr>\n",
       "    <tr>\n",
       "      <th>7</th>\n",
       "      <td>0.049610</td>\n",
       "    </tr>\n",
       "    <tr>\n",
       "      <th>pipiens/restuans</th>\n",
       "      <td>0.042288</td>\n",
       "    </tr>\n",
       "    <tr>\n",
       "      <th>Tavg</th>\n",
       "      <td>0.035297</td>\n",
       "    </tr>\n",
       "    <tr>\n",
       "      <th>DewPoint_roll5</th>\n",
       "      <td>0.031723</td>\n",
       "    </tr>\n",
       "    <tr>\n",
       "      <th>DewPoint_roll6</th>\n",
       "      <td>0.028816</td>\n",
       "    </tr>\n",
       "    <tr>\n",
       "      <th>StnPressure</th>\n",
       "      <td>0.028791</td>\n",
       "    </tr>\n",
       "  </tbody>\n",
       "</table>\n",
       "</div>"
      ],
      "text/plain": [
       "                  features\n",
       "8                 0.106106\n",
       "T900              0.071612\n",
       "pipiens           0.063308\n",
       "restuans          0.055033\n",
       "7                 0.049610\n",
       "pipiens/restuans  0.042288\n",
       "Tavg              0.035297\n",
       "DewPoint_roll5    0.031723\n",
       "DewPoint_roll6    0.028816\n",
       "StnPressure       0.028791"
      ]
     },
     "metadata": {},
     "output_type": "display_data"
    }
   ],
   "source": [
    "coefficients = pd.DataFrame(model3[-1].feature_importances_, index = X_train.columns, columns = ['features'])\n",
    "display(coefficients.sort_values('features',ascending = False).head(10))"
   ]
  },
  {
   "cell_type": "markdown",
   "id": "b1d1cf80",
   "metadata": {},
   "source": [
    "### Refitting"
   ]
  },
  {
   "cell_type": "code",
   "execution_count": 20,
   "id": "8f5d2fb3",
   "metadata": {},
   "outputs": [
    {
     "name": "stdout",
     "output_type": "stream",
     "text": [
      "Final Model Fullset Score: 0.9435540069686411\n",
      "Final Model Fullset ROC Score: 0.8880323817923138\n"
     ]
    },
    {
     "data": {
      "text/plain": [
       "Pipeline(steps=[('ss', StandardScaler()), ('smote', SMOTE(random_state=42)),\n",
       "                ('rt',\n",
       "                 RandomForestClassifier(max_depth=15, max_features=0.1,\n",
       "                                        min_samples_leaf=5, min_samples_split=3,\n",
       "                                        n_estimators=500))])"
      ]
     },
     "execution_count": 20,
     "metadata": {},
     "output_type": "execute_result"
    },
    {
     "data": {
      "image/png": "[encoded data removed]",
      "text/plain": [
       "<Figure size 432x288 with 1 Axes>"
      ]
     },
     "metadata": {
      "needs_background": "light"
     },
     "output_type": "display_data"
    }
   ],
   "source": [
    "rt_final = imbpipeline([('ss', StandardScaler()),\n",
    "                        ('smote', SMOTE(random_state = 42)),\n",
    "                        ('rt', RandomForestClassifier(n_estimators= 500))\n",
    "                       ])\n",
    "\n",
    "rt_final.set_params(**gs3.best_params_)\n",
    "\n",
    "rt_final.fit(X, y)\n",
    "\n",
    "print(f'Final Model Fullset Score: {rt_final.score(X, y)}')\n",
    "print(f'Final Model Fullset ROC Score: {roc_auc_score(y, [i[1] for i in rt_final.predict_proba(X)])}')\n",
    "plot_roc_curve(rt_final, X, y);\n",
    "\n",
    "rt_final"
   ]
  },
  {
   "cell_type": "markdown",
   "id": "a3a61ef9",
   "metadata": {},
   "source": [
    "### Kaggle Submission"
   ]
  },
  {
   "cell_type": "code",
   "execution_count": 21,
   "id": "19aa3799",
   "metadata": {},
   "outputs": [],
   "source": [
    "kaggle_test = test_final.drop(columns = drop_columns)\n",
    "kaggle_submission = kaggle_test[['Id']].copy()\n",
    "kaggle_test = kaggle_test.drop(columns = ['Id'])\n",
    "\n",
    "kaggle_submission['WnvPresent'] = rt_final.predict_proba(kaggle_test)[:,1]\n"
   ]
  },
  {
   "cell_type": "code",
   "execution_count": 22,
   "id": "2a838041",
   "metadata": {},
   "outputs": [
    {
     "data": {
      "text/html": [
       "<div>\n",
       "<style scoped>\n",
       "    .dataframe tbody tr th:only-of-type {\n",
       "        vertical-align: middle;\n",
       "    }\n",
       "\n",
       "    .dataframe tbody tr th {\n",
       "        vertical-align: top;\n",
       "    }\n",
       "\n",
       "    .dataframe thead th {\n",
       "        text-align: right;\n",
       "    }\n",
       "</style>\n",
       "<table border=\"1\" class=\"dataframe\">\n",
       "  <thead>\n",
       "    <tr style=\"text-align: right;\">\n",
       "      <th></th>\n",
       "      <th>Id</th>\n",
       "      <th>WnvPresent</th>\n",
       "    </tr>\n",
       "  </thead>\n",
       "  <tbody>\n",
       "    <tr>\n",
       "      <th>0</th>\n",
       "      <td>1</td>\n",
       "      <td>0.229059</td>\n",
       "    </tr>\n",
       "    <tr>\n",
       "      <th>1</th>\n",
       "      <td>2</td>\n",
       "      <td>0.198695</td>\n",
       "    </tr>\n",
       "    <tr>\n",
       "      <th>2</th>\n",
       "      <td>3</td>\n",
       "      <td>0.311205</td>\n",
       "    </tr>\n",
       "    <tr>\n",
       "      <th>3</th>\n",
       "      <td>4</td>\n",
       "      <td>0.234440</td>\n",
       "    </tr>\n",
       "    <tr>\n",
       "      <th>4</th>\n",
       "      <td>5</td>\n",
       "      <td>0.209649</td>\n",
       "    </tr>\n",
       "  </tbody>\n",
       "</table>\n",
       "</div>"
      ],
      "text/plain": [
       "   Id  WnvPresent\n",
       "0   1    0.229059\n",
       "1   2    0.198695\n",
       "2   3    0.311205\n",
       "3   4    0.234440\n",
       "4   5    0.209649"
      ]
     },
     "execution_count": 22,
     "metadata": {},
     "output_type": "execute_result"
    }
   ],
   "source": [
    "kaggle_submission.head()"
   ]
  },
  {
   "cell_type": "code",
   "execution_count": 23,
   "id": "0239c422",
   "metadata": {},
   "outputs": [],
   "source": [
    "kaggle_submission.to_csv('../../DataSets/kaggle_submission_rt.csv', index=False)"
   ]
  },
  {
   "cell_type": "markdown",
   "id": "afe8743e",
   "metadata": {},
   "source": [
    "### Conclusion"
   ]
  },
  {
   "cell_type": "markdown",
   "id": "934d8de6",
   "metadata": {},
   "source": [
    "|                                                                                                                       | Train Set Accuracy Score | Val Set Accuracy Score | Train Set ROC-AUC Score | Val Set ROC-AUC Score | Kaggle Test Set Score (After refitting with full dataset) | Best Params                                                                                               |\n",
    "|-----------------------------------------------------------------------------------------------------------------------|--------------------------|------------------------|-------------------------|-----------------------|-----------------------------------------------------------|-----------------------------------------------------------------------------------------------------------|\n",
    "| Model 1: 1st Run. GridSearch without Pipeline from Imblearn                                                           | 0.96                     | 0.938                  | 0.992                   | 0.848                 | 0.703                                                     | {'max_depth': 25, 'max_features': 0.3, 'min_samples_leaf': 10, 'min_samples_split': 6}                    |\n",
    "| Model 2: GridSearch without Pipeline from Imblearn (Constrain the model using hyperparameters for fixing overfitting) | 0.742                    | 0.7                    | 0.742                   | 0.7                   | 0.59                                                      | {'ccp_alpha': 0.1, 'max_depth': 10, 'max_features': 0.1, 'min_samples_leaf': 200, 'min_samples_split': 6} |\n",
    "| Model 3: GridSearch using Pipeline from Imblearn                                                                      | 0.931                    | 0.926                  | 0.884                   | 0.854                 | 0.729                                                     | {'rt__max_depth': 15, 'rt__max_features': 0.1, 'rt__min_samples_leaf': 5, 'rt__min_samples_split': 6}     |\n",
    "| Model 4: GridSearch using BalancedRandomForestClassifier                                                              | 0.696                    | 0.688                  | 0.85                    | 0.839                 | 0.694                                                     | {'max_depth': 15, 'max_features': 0.3, 'min_samples_leaf': 5, 'min_samples_split': 3}                     |"
   ]
  },
  {
   "cell_type": "markdown",
   "id": "e6fb5310",
   "metadata": {},
   "source": [
    "In model 1 and 2, without using the imbalance pipeline, we tried a couple of different hyperparameters within GridSearch but the resulting model is always overfitted since this is an imbalance class. GridSearch always return the hyperparameters that return the highest scoring but this doesn't help with overfitting. Even increasing the folds of crossvalidation doesn't helps here as the input to GridSearch is after using SMOTE where the minority class is oversampled and not an imbalanced class. \n",
    "\n",
    "The only way we can prevent overfitting is to manually capped some of the hyperparameters that prevent overfitting like 'max_depth', 'max_features', 'max_leaf_nodes', 'min_samples_leaf' and 'min_samples_split' and gridsearch over the rest of hyperparameters like 'n_estimators. In the end, we choose to keep the tree from overgrowing by capping max_depth and introducing ccp_alpha while gridsearching over the rest. In our attempt to prevent overfitting, we sacrificed alot on the ROC_AUC score as the gridsearch wasn't working and we weren't finding the correct hyperparameters.\n",
    "\n",
    "In model 3, 4, we seek to GridSearch more meaningfully using the pipeline from imblearn library or using BalanceRandomForestClassifier which randomly under-samples each boostrap sample to balance it.. In both cases, we obtained models that give better results across all metrics compared to model2. The ROC_AUC scores for both the train and val set are also higher than model2. There was also no sign of overfitting. When we submit the result to Kaggle. Model3 achieve the highest Kaggle Score of 0.729 and Model4 0.694. Model3 and Model4 are more robust than Model1. Model3 metrics are better than Model4 and we conclude Model 3 as our best randomforestclassifier model."
   ]
  },
  {
   "cell_type": "code",
   "execution_count": null,
   "id": "12bbe399",
   "metadata": {},
   "outputs": [],
   "source": []
  }
 ],
 "metadata": {
  "kernelspec": {
   "display_name": "Python 3",
   "language": "python",
   "name": "python3"
  },
  "language_info": {
   "codemirror_mode": {
    "name": "ipython",
    "version": 3
   },
   "file_extension": ".py",
   "mimetype": "text/x-python",
   "name": "python",
   "nbconvert_exporter": "python",
   "pygments_lexer": "ipython3",
   "version": "3.8.8"
  }
 },
 "nbformat": 4,
 "nbformat_minor": 5
}
