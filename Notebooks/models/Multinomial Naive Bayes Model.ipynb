{
 "cells": [
  {
   "cell_type": "markdown",
   "id": "f3933003",
   "metadata": {},
   "source": [
    "### Contents:\n",
    "- [1. Import Libraries](#1.-Import-Libraries)\n",
    "- [2. Data Import](#2.-Data-Import)\n",
    "- [3. Pre-Processing](#3.-Pre-Processing)\n",
    "- [4. Model](#4.-Model)\n",
    "- [5. Kaggle Submission](#5.-Kaggle-Submission)"
   ]
  },
  {
   "cell_type": "markdown",
   "id": "8ebd1bce",
   "metadata": {},
   "source": [
    "## 1. Import Libraries\n",
    "---"
   ]
  },
  {
   "cell_type": "code",
   "execution_count": 1,
   "id": "b60bd928",
   "metadata": {},
   "outputs": [],
   "source": [
    "import pandas as pd\n",
    "import requests\n",
    "import time\n",
    "import random\n",
    "import string\n",
    "import scipy.stats as stats\n",
    "import numpy as np\n",
    "import math \n",
    "from datetime import datetime\n",
    "\n",
    "import matplotlib.pyplot as plt\n",
    "import seaborn as sns\n",
    "\n",
    "from matplotlib import pyplot as plt\n",
    "from sklearn.metrics import plot_roc_curve, mean_squared_error, confusion_matrix, f1_score, roc_auc_score\n",
    "from sklearn.preprocessing import StandardScaler, MinMaxScaler\n",
    "from sklearn.model_selection import train_test_split, cross_val_score, GridSearchCV\n",
    "from sklearn.pipeline import Pipeline\n",
    "from sklearn.naive_bayes import MultinomialNB\n",
    "from imblearn.over_sampling import SMOTE\n",
    "from sklearn.feature_extraction.text import CountVectorizer"
   ]
  },
  {
   "cell_type": "markdown",
   "id": "bce217d6",
   "metadata": {},
   "source": [
    "## 2. Data Import\n",
    "---"
   ]
  },
  {
   "cell_type": "code",
   "execution_count": 2,
   "id": "e6c7adbf",
   "metadata": {},
   "outputs": [],
   "source": [
    "pd.set_option(\"display.max_columns\", None)\n",
    "train_final = pd.read_csv(\"../Datasets/train_final.csv\")\n",
    "test_final = pd.read_csv(\"../Datasets/test_final.csv\")"
   ]
  },
  {
   "cell_type": "markdown",
   "id": "a95f32ca",
   "metadata": {},
   "source": [
    "## 3. Pre Processing\n",
    "---"
   ]
  },
  {
   "cell_type": "code",
   "execution_count": 3,
   "id": "426bcf2b",
   "metadata": {},
   "outputs": [],
   "source": [
    "# set up train set\n",
    "X_train = train_final.drop(columns = ['Address', 'Block', 'Street', \n",
    "                                      'AddressNumberAndStreet', 'Latitude', 'Longitude',\n",
    "                                      'Species', 'Trap', 'AddressAccuracy',\n",
    "                                      'tot_mosquitos','WnvPresent', 'month_year',\n",
    "                                      'year', 'month', 'day',\n",
    "                                      'tarsalis', 'erraticus', 'unspecified',\n",
    "                                      'T040', 'T200B', 'T234', \n",
    "                                      'T090A', 'T090C', 'T090B', \n",
    "                                      'T218C', 'T128A', 'T218B', \n",
    "                                      'T218A', 'T002A', 'T002B', \n",
    "                                      'T200A', 'T065A', 'Unnamed: 0'])\n",
    "\n",
    "y_train = train_final[\"WnvPresent\"]\n",
    "\n",
    "# set up test set\n",
    "X_test = test_final.drop(columns = ['Address', 'Block', 'Street',\n",
    "                                    'AddressNumberAndStreet', 'Latitude', 'Longitude',\n",
    "                                    'Species', 'Trap', 'AddressAccuracy',\n",
    "                                    'Id','month_year', 'year', \n",
    "                                    'month', 'day', 'tarsalis', \n",
    "                                    'erraticus', 'unspecified', 'T040', \n",
    "                                    'T200B', 'T234', 'T090A', \n",
    "                                    'T090C', 'T090B', 'T218C', \n",
    "                                    'T128A', 'T218B', 'T218A',\n",
    "                                    'T002A', 'T002B', 'T200A', \n",
    "                                    'T065A', 'Unnamed: 0'])"
   ]
  },
  {
   "cell_type": "code",
   "execution_count": 4,
   "id": "8a871e46",
   "metadata": {},
   "outputs": [],
   "source": [
    "# list of features to be scaled\n",
    "scale_list = ['StnPressure', 'ResultSpeed','ResultDir',\n",
    "              'DewPoint', 'DewPoint_roll2','DewPoint_roll3',\n",
    "              'DewPoint_roll4','DewPoint_roll5', 'DewPoint_roll6',\n",
    "              'Tavg', 'Tavg_roll2','Tavg_roll3',\n",
    "              'Tavg_roll4','Tavg_roll5', 'Tavg_roll6',\n",
    "              'PrecipTotal', 'PrecipTotal_roll2','PrecipTotal_roll3',\n",
    "              'PrecipTotal_roll4','PrecipTotal_roll5','PrecipTotal_roll6']\n",
    "\n",
    "# scaling\n",
    "scaler = MinMaxScaler()\n",
    "# scaling train set\n",
    "X_train[scale_list] = scaler.fit_transform(X_train[scale_list])\n",
    "# scaling test set\n",
    "X_test[scale_list] = scaler.transform(X_test[scale_list])"
   ]
  },
  {
   "cell_type": "code",
   "execution_count": 5,
   "id": "ce7c40a7",
   "metadata": {},
   "outputs": [],
   "source": [
    "# SMOTE\n",
    "sm = SMOTE(sampling_strategy = {1: 8000}, random_state = 42)\n",
    "Xsm_train, ysm_train = sm.fit_resample(X_train, y_train)"
   ]
  },
  {
   "cell_type": "markdown",
   "id": "aac2e088",
   "metadata": {},
   "source": [
    "## 4. Model\n",
    "---"
   ]
  },
  {
   "cell_type": "code",
   "execution_count": 6,
   "id": "36d355be",
   "metadata": {},
   "outputs": [],
   "source": [
    "# results to store the results for each model (dictionary)\n",
    "results = {}"
   ]
  },
  {
   "cell_type": "code",
   "execution_count": 7,
   "id": "3ac2c06f",
   "metadata": {},
   "outputs": [],
   "source": [
    "# Sample with a multinomial bayes model\n",
    "pipe_nb = Pipeline([\n",
    "    (\"nb\", MultinomialNB())\n",
    "])\n",
    "\n",
    "pipe_nb_params = {\n",
    "    \"nb__alpha\": [0.1, 0.001, 0.0001, 1],\n",
    "}\n",
    "\n",
    "gs = GridSearchCV(\n",
    "    pipe_nb,\n",
    "    param_grid=pipe_nb_params,\n",
    "    cv=5, \n",
    "    scoring = \"roc_auc\"\n",
    ")\n",
    "\n",
    "# fit grid search to training data\n",
    "gs.fit(Xsm_train, ysm_train)\n",
    "\n",
    "# save best model\n",
    "nb_model = gs.best_estimator_\n",
    "\n",
    "# prediction\n",
    "nb_train_pred = nb_model.predict_proba(Xsm_train)\n",
    "nb_test_pred = nb_model.predict_proba(X_test)\n",
    "\n",
    "# confusion matrix\n",
    "nb_train_cm = pd.DataFrame(confusion_matrix(ysm_train, nb_model.predict(Xsm_train)),\n",
    "                           columns=[\"pred_wnv\", \"pred_no_wnv\"],\n",
    "                           index=[\"has_wnv\", \"has_no_wnv\"])\n",
    "\n",
    "tn, fp, fn, tp = confusion_matrix(ysm_train, nb_model.predict(Xsm_train)).ravel()\n",
    "\n",
    "# other metrics       \n",
    "sensitivity = tp / (tp + fn)    \n",
    "specificity = tn / (tn + fp)   \n",
    "precision = tp / (tp + fp)\n",
    "roc_score = roc_auc_score(ysm_train, nb_train_pred[:, 1])\n",
    "\n",
    "# append the metrics to \"results\" dictionary\n",
    "results[\"nb\"] = [nb_model.score(Xsm_train, ysm_train), \n",
    "                 sensitivity, \n",
    "                 specificity, \n",
    "                 precision, \n",
    "                 roc_score]"
   ]
  },
  {
   "cell_type": "code",
   "execution_count": 8,
   "id": "c56be87c",
   "metadata": {},
   "outputs": [
    {
     "name": "stdout",
     "output_type": "stream",
     "text": [
      "Best Parameters: {'nb__alpha': 0.001}\n",
      "Train accuracy score: 0.8616356094843063\n",
      "Sensitivity: 0.87775\n",
      "Specificity: 0.8458236232061818\n",
      "Precision: 0.8481700688488948\n",
      "ROC Score: 0.9331466178093953\n"
     ]
    }
   ],
   "source": [
    "# accuracy score and roc score\n",
    "print(f\"Best Parameters: {gs.best_params_}\")\n",
    "print(\"Train accuracy score:\", nb_model.score(Xsm_train, ysm_train))\n",
    "print(f\"Sensitivity: {sensitivity}\")\n",
    "print(f\"Specificity: {specificity}\")\n",
    "print(f\"Precision: {precision}\")\n",
    "print(f\"ROC Score: {roc_score}\")"
   ]
  },
  {
   "cell_type": "code",
   "execution_count": 9,
   "id": "66189a3a",
   "metadata": {},
   "outputs": [
    {
     "data": {
      "image/png": "[encoded data removed]",
      "text/plain": [
       "<Figure size 432x288 with 1 Axes>"
      ]
     },
     "metadata": {
      "needs_background": "light"
     },
     "output_type": "display_data"
    }
   ],
   "source": [
    "# roc auc curve\n",
    "plot_roc_curve(nb_model, Xsm_train, ysm_train);"
   ]
  },
  {
   "cell_type": "markdown",
   "id": "17111b2c",
   "metadata": {},
   "source": [
    "### Important Features"
   ]
  },
  {
   "cell_type": "code",
   "execution_count": 27,
   "id": "6feb619d",
   "metadata": {},
   "outputs": [],
   "source": [
    "feature_names = list(Xsm_train.columns)\n",
    "df = pd.DataFrame()\n",
    "df[\"feature_names\"] = feature_names\n",
    "df = df.set_index([\"feature_names\"])\n",
    "df[\"pos\"] = np.exp(nb_model.named_steps[\"nb\"].feature_log_prob_[1, :])\n",
    "df[\"neg\"] = np.exp(nb_model.named_steps[\"nb\"].feature_log_prob_[0, :])"
   ]
  },
  {
   "cell_type": "code",
   "execution_count": 45,
   "id": "ccafe1e2",
   "metadata": {},
   "outputs": [
    {
     "name": "stdout",
     "output_type": "stream",
     "text": [
      "Top 20 features for positive class:\n",
      "                         pos\n",
      "feature_names              \n",
      "DewPoint_roll2     0.057554\n",
      "DewPoint_roll3     0.055564\n",
      "Tavg               0.055341\n",
      "DewPoint           0.054809\n",
      "Tavg_roll2         0.053735\n",
      "DewPoint_roll4     0.053400\n",
      "DewPoint_roll6     0.053369\n",
      "Tavg_roll3         0.053228\n",
      "8                  0.052679\n",
      "Tavg_roll4         0.051550\n",
      "DewPoint_roll5     0.050711\n",
      "Tavg_roll5         0.050034\n",
      "Tavg_roll6         0.049849\n",
      "StnPressure        0.041550\n",
      "ResultDir          0.038458\n",
      "pipiens/restuans   0.037859\n",
      "pipiens            0.032007\n",
      "ResultSpeed        0.026525\n",
      "9                  0.019079\n",
      "PrecipTotal_roll6  0.015580\n"
     ]
    }
   ],
   "source": [
    "print(\"Top 20 features for positive class:\\n\", \n",
    "      pd.DataFrame(df.sort_values(by=\"pos\", ascending=False).iloc[:20, 0]))"
   ]
  },
  {
   "cell_type": "code",
   "execution_count": 48,
   "id": "ebbf7baa",
   "metadata": {},
   "outputs": [
    {
     "name": "stdout",
     "output_type": "stream",
     "text": [
      "Top 20 features for negative class:\n",
      "                        neg\n",
      "feature_names             \n",
      "Tavg              0.051079\n",
      "DewPoint_roll2    0.051042\n",
      "DewPoint_roll3    0.048927\n",
      "Tavg_roll2        0.048893\n",
      "DewPoint          0.048864\n",
      "Tavg_roll3        0.048275\n",
      "Tavg_roll4        0.047315\n",
      "DewPoint_roll6    0.046848\n",
      "DewPoint_roll4    0.046782\n",
      "Tavg_roll5        0.046230\n",
      "Tavg_roll6        0.045891\n",
      "DewPoint_roll5    0.044200\n",
      "StnPressure       0.042567\n",
      "ResultDir         0.039826\n",
      "pipiens/restuans  0.037192\n",
      "ResultSpeed       0.031092\n",
      "8                 0.025632\n",
      "restuans          0.023901\n",
      "7                 0.021046\n",
      "9                 0.018859\n"
     ]
    }
   ],
   "source": [
    "print(\"Top 20 features for negative class:\\n\", \n",
    "      pd.DataFrame(df.sort_values(by=\"neg\", ascending=False).iloc[:20, 1]))"
   ]
  },
  {
   "cell_type": "code",
   "execution_count": 50,
   "id": "4965fe47",
   "metadata": {},
   "outputs": [
    {
     "data": {
      "text/plain": [
       "166"
      ]
     },
     "execution_count": 50,
     "metadata": {},
     "output_type": "execute_result"
    }
   ],
   "source": [
    "# number of features used in the model\n",
    "len(Xsm_train.columns)"
   ]
  },
  {
   "cell_type": "markdown",
   "id": "21170e01",
   "metadata": {},
   "source": [
    "## 5. Kaggle Submission"
   ]
  },
  {
   "cell_type": "code",
   "execution_count": 13,
   "id": "907ded77",
   "metadata": {},
   "outputs": [
    {
     "data": {
      "text/plain": [
       "array([[9.98388207e-01, 1.61179346e-03],\n",
       "       [9.99519453e-01, 4.80546758e-04],\n",
       "       [9.97240273e-01, 2.75972715e-03],\n",
       "       ...,\n",
       "       [9.90913004e-01, 9.08699562e-03],\n",
       "       [9.90913004e-01, 9.08699562e-03],\n",
       "       [9.90913004e-01, 9.08699562e-03]])"
      ]
     },
     "execution_count": 13,
     "metadata": {},
     "output_type": "execute_result"
    }
   ],
   "source": [
    "nb_test_pred"
   ]
  },
  {
   "cell_type": "code",
   "execution_count": 14,
   "id": "c9ced3ee",
   "metadata": {},
   "outputs": [],
   "source": [
    "preds = []\n",
    "for i in range(0,len(nb_test_pred)):\n",
    "    preds.append(nb_test_pred[i][1])"
   ]
  },
  {
   "cell_type": "code",
   "execution_count": 15,
   "id": "3a19eb1a",
   "metadata": {},
   "outputs": [],
   "source": [
    "# Prepare for kaggle\n",
    "sample_submission_nb = pd.DataFrame()\n",
    "sample_submission_nb['Id'] = test_final['Id']\n",
    "sample_submission_nb['WnvPresent'] = preds\n",
    "sample_submission_nb.reset_index(drop=True, inplace=True)\n",
    "sample_submission_nb.to_csv('../Submissions/sample_submission_nb8.csv', index=False)"
   ]
  },
  {
   "cell_type": "markdown",
   "id": "800f6105",
   "metadata": {},
   "source": [
    "The Kaggle submission score for this Naive Bayes model is **0.71312**. \n",
    "\n",
    "Naive Bayes model tends to perform well when the input variables are categorical. Out of 166 input variables fed into this model, only 21 of those variables are numerical variables. The others are categorical variables. \n",
    "\n",
    "Naive Bayes model's main limitation is its assumption of independent predictors. This assumption is almost impossible to satisfy in reality as it is not possible to get a set of predictors that are completely independent. Moreover, looking at the top features of this model, there are some common features that are found to be important in predicting WNV, as well as, in predicting no WNV. For example, DewPoint_roll2 and DewPoint_roll3. Even though, this model seems to perform reasonably well and has one of the highest ROC score compared to the other models tested, it may not be suitable for this project.\n",
    "\n",
    "Additionally, the kaggle score is much lower than the ROC score for the train set. Thus, highlighting that there may be overfitting in the model."
   ]
  }
 ],
 "metadata": {
  "kernelspec": {
   "display_name": "Python 3",
   "language": "python",
   "name": "python3"
  },
  "language_info": {
   "codemirror_mode": {
    "name": "ipython",
    "version": 3
   },
   "file_extension": ".py",
   "mimetype": "text/x-python",
   "name": "python",
   "nbconvert_exporter": "python",
   "pygments_lexer": "ipython3",
   "version": "3.8.8"
  }
 },
 "nbformat": 4,
 "nbformat_minor": 5
}
