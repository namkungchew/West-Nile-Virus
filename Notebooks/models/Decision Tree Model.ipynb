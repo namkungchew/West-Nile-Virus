{
 "cells": [
  {
   "cell_type": "markdown",
   "id": "69542ed5",
   "metadata": {},
   "source": [
    "We use decision trees to model the data."
   ]
  },
  {
   "cell_type": "code",
   "execution_count": 1,
   "id": "2ca3b57e",
   "metadata": {},
   "outputs": [],
   "source": [
    "import pandas as pd\n",
    "import requests\n",
    "import time\n",
    "import random\n",
    "import string\n",
    "import scipy.stats as stats\n",
    "import numpy as np\n",
    "import math \n",
    "from datetime import datetime\n",
    "\n",
    "\n",
    "import seaborn as sns\n",
    "from matplotlib import pyplot as plt\n",
    "from sklearn.metrics import plot_roc_curve\n",
    "\n",
    "import numpy as np\n",
    "from sklearn.model_selection import train_test_split\n",
    "from sklearn.preprocessing import StandardScaler\n",
    "from sklearn.metrics import confusion_matrix, classification_report, accuracy_score\n",
    "from imblearn.over_sampling import SMOTE\n",
    "\n",
    "from sklearn.model_selection import train_test_split\n",
    "from sklearn.model_selection import train_test_split, GridSearchCV\n",
    "from sklearn.pipeline import Pipeline\n",
    "from sklearn.linear_model import LogisticRegression\n",
    "from sklearn.feature_extraction.text import CountVectorizer, TfidfVectorizer\n",
    "from sklearn.naive_bayes import MultinomialNB\n",
    "from sklearn.tree import DecisionTreeClassifier\n",
    "from sklearn.ensemble import AdaBoostClassifier\n",
    "from sklearn.neighbors import KNeighborsClassifier\n",
    "from sklearn.preprocessing import StandardScaler\n",
    "from sklearn.svm import SVC\n",
    "from sklearn.metrics import plot_confusion_matrix, confusion_matrix\n",
    "\n",
    "from imblearn.pipeline import Pipeline as imbpipeline"
   ]
  },
  {
   "cell_type": "code",
   "execution_count": 2,
   "id": "a2c29fc3",
   "metadata": {},
   "outputs": [],
   "source": [
    "# Read in data\n",
    "train_final = pd.read_csv('./data/train_final.csv')\n",
    "test_final = pd.read_csv('./data/test_final.csv')\n",
    "\n",
    "# Set up X_train, y_train, X_test\n",
    "\n",
    "X_train = train_final.drop(columns = ['Address','Block',\n",
    "'Street',\n",
    "'AddressNumberAndStreet',\n",
    "'Latitude',\n",
    "'Longitude',\n",
    "'Species',\n",
    "'Trap',\n",
    "'AddressAccuracy',\n",
    "'tot_mosquitos','WnvPresent','month_year','year', 'month',\n",
    "                                     'tarsalis', 'erraticus', 'unspecified',\n",
    "                                     'T040', 'T200B', 'T234', 'T090A', 'T090C',\n",
    "                                     'T090B', 'T218C', 'T128A', 'T218B', 'T218A',\n",
    "                                    'T002A', 'T002B', 'T200A', 'T065A'  ])\n",
    "y_train = train_final['WnvPresent']\n",
    "X_test = test_final.drop(columns = ['Address',\n",
    "'Block',\n",
    "'Street',\n",
    "'AddressNumberAndStreet',\n",
    "'Latitude',\n",
    "'Longitude',\n",
    "'Species',\n",
    "'Trap',\n",
    "'AddressAccuracy','Id','month_year', 'year', 'month',\n",
    "                                   'tarsalis', 'erraticus', 'unspecified',\n",
    "                                   'T040', 'T200B', 'T234', 'T090A', 'T090C',\n",
    "                                     'T090B', 'T218C', 'T128A', 'T218B', 'T218A',\n",
    "                                    'T002A', 'T002B', 'T200A', 'T065A'])\n",
    "\n",
    "# Scale columns that need to be scaled\n",
    "\n",
    "ss = StandardScaler()\n",
    "\n",
    "scale_list = ['StnPressure', 'ResultSpeed','ResultDir',\n",
    "              'DewPoint', 'DewPoint_roll2','DewPoint_roll3','DewPoint_roll4','DewPoint_roll5', 'DewPoint_roll6',\n",
    "             'Tavg', 'Tavg_roll2','Tavg_roll3','Tavg_roll4','Tavg_roll5', 'Tavg_roll6',\n",
    "             'PrecipTotal', 'PrecipTotal_roll2','PrecipTotal_roll3','PrecipTotal_roll4','PrecipTotal_roll5','PrecipTotal_roll6']\n",
    "\n",
    "X_train[scale_list] = ss.fit_transform(X_train[scale_list])\n",
    "\n",
    "X_test[scale_list] = ss.transform(X_test[scale_list])\n",
    "\n",
    "# SMOTE\n",
    "sm = SMOTE(sampling_strategy = {1: 8000}, random_state = 42)\n",
    "\n",
    "# Dataframes now are Xsm_train, ysm_train and X_test\n",
    "\n",
    "Xsm, ysm = sm.fit_resample(X_train, y_train)\n",
    "\n",
    "Xsm_train, Xsm_val, ysm_train, ysm_val = train_test_split(Xsm, \n",
    "                                                          ysm,\n",
    "                                                          test_size= 0.25,\n",
    "                                                          random_state= 42,\n",
    "                                                          stratify= ysm)"
   ]
  },
  {
   "cell_type": "code",
   "execution_count": 3,
   "id": "a791ab80",
   "metadata": {},
   "outputs": [
    {
     "data": {
      "text/plain": [
       "0    0.504705\n",
       "1    0.495295\n",
       "Name: WnvPresent, dtype: float64"
      ]
     },
     "execution_count": 3,
     "metadata": {},
     "output_type": "execute_result"
    }
   ],
   "source": [
    "# Baseline score\n",
    "ysm_train.value_counts(normalize = True)"
   ]
  },
  {
   "cell_type": "code",
   "execution_count": 4,
   "id": "65a7c8fe",
   "metadata": {},
   "outputs": [
    {
     "name": "stdout",
     "output_type": "stream",
     "text": [
      "Best Grid Search Score: 0.8137646271298564\n",
      "Best Params: {'dt__max_depth': 4, 'dt__min_samples_leaf': 4, 'dt__min_samples_split': 10}\n",
      "Best Model Score: 0.7607726597325408\n",
      "Best Model Test Score: 0.7566229264669473\n"
     ]
    }
   ],
   "source": [
    "# Set up pipeline\n",
    "dt_pipe = Pipeline([\n",
    "    ('dt', DecisionTreeClassifier())\n",
    "])\n",
    "\n",
    "# Set pipe params\n",
    "dt_pipe_params = {\n",
    "    'dt__max_depth' : [2,3,4],\n",
    "    'dt__min_samples_split': [10,20,30],\n",
    "    'dt__min_samples_leaf': [2,3, 4],\n",
    "}\n",
    "\n",
    "#Instantiate Gridsearch\n",
    "gs = GridSearchCV(dt_pipe, \n",
    "                  param_grid=dt_pipe_params, \n",
    "                  cv=5,\n",
    "                 scoring = 'roc_auc') \n",
    "\n",
    "# Fit\n",
    "gs.fit(Xsm_train, ysm_train)\n",
    "gs_model = gs.best_estimator_\n",
    "\n",
    "# See results\n",
    "print(f'Best Grid Search Score: {gs.best_score_}')\n",
    "print(f'Best Params: {gs.best_params_}')\n",
    "\n",
    "model = gs.best_estimator_\n",
    "print(f'Best Model Score: {gs_model.score(Xsm_train, ysm_train)}')\n",
    "print(f'Best Model Test Score: {gs_model.score(Xsm_val,ysm_val)}')\n"
   ]
  },
  {
   "cell_type": "code",
   "execution_count": 5,
   "id": "45be19e7",
   "metadata": {},
   "outputs": [
    {
     "data": {
      "text/html": [
       "<div>\n",
       "<style scoped>\n",
       "    .dataframe tbody tr th:only-of-type {\n",
       "        vertical-align: middle;\n",
       "    }\n",
       "\n",
       "    .dataframe tbody tr th {\n",
       "        vertical-align: top;\n",
       "    }\n",
       "\n",
       "    .dataframe thead th {\n",
       "        text-align: right;\n",
       "    }\n",
       "</style>\n",
       "<table border=\"1\" class=\"dataframe\">\n",
       "  <thead>\n",
       "    <tr style=\"text-align: right;\">\n",
       "      <th></th>\n",
       "      <th>0</th>\n",
       "      <th>1</th>\n",
       "    </tr>\n",
       "  </thead>\n",
       "  <tbody>\n",
       "    <tr>\n",
       "      <th>0</th>\n",
       "      <td>Accurary</td>\n",
       "      <td>0.756623</td>\n",
       "    </tr>\n",
       "    <tr>\n",
       "      <th>1</th>\n",
       "      <td>Misclassification</td>\n",
       "      <td>0.243377</td>\n",
       "    </tr>\n",
       "    <tr>\n",
       "      <th>2</th>\n",
       "      <td>Sensitivity</td>\n",
       "      <td>0.850500</td>\n",
       "    </tr>\n",
       "    <tr>\n",
       "      <th>3</th>\n",
       "      <td>Specificity</td>\n",
       "      <td>0.664541</td>\n",
       "    </tr>\n",
       "    <tr>\n",
       "      <th>4</th>\n",
       "      <td>Precision</td>\n",
       "      <td>0.713208</td>\n",
       "    </tr>\n",
       "  </tbody>\n",
       "</table>\n",
       "</div>"
      ],
      "text/plain": [
       "                   0         1\n",
       "0           Accurary  0.756623\n",
       "1  Misclassification  0.243377\n",
       "2        Sensitivity  0.850500\n",
       "3        Specificity  0.664541\n",
       "4          Precision  0.713208"
      ]
     },
     "execution_count": 5,
     "metadata": {},
     "output_type": "execute_result"
    },
    {
     "data": {
      "image/png": "[encoded data removed]",
      "text/plain": [
       "<Figure size 432x288 with 2 Axes>"
      ]
     },
     "metadata": {
      "needs_background": "light"
     },
     "output_type": "display_data"
    }
   ],
   "source": [
    "plot_confusion_matrix(gs_model, Xsm_val, ysm_val, cmap='Blues', values_format='d');\n",
    "tn, fp, fn, tp = confusion_matrix(ysm_val, gs_model.predict(Xsm_val)).ravel()\n",
    "pd.DataFrame([\n",
    "    ('Accurary', (tn+tp)/(tn+tp+fp+fn)),\n",
    "    ('Misclassification', (fp+fn)/(tn+tp+fp+fn)),\n",
    "    ('Sensitivity', tp/(tp+fn)),\n",
    "    ('Specificity', tn/(tn+fp)),\n",
    "    ('Precision', tp/(tp+fp))\n",
    "])"
   ]
  },
  {
   "cell_type": "code",
   "execution_count": 12,
   "id": "7bc01623",
   "metadata": {},
   "outputs": [
    {
     "data": {
      "image/png": "[encoded data removed]",
      "text/plain": [
       "<Figure size 432x288 with 1 Axes>"
      ]
     },
     "metadata": {
      "needs_background": "light"
     },
     "output_type": "display_data"
    }
   ],
   "source": [
    "plot_roc_curve(gs_model, Xsm_val, ysm_val);"
   ]
  },
  {
   "cell_type": "code",
   "execution_count": 6,
   "id": "cd879cd0",
   "metadata": {},
   "outputs": [],
   "source": [
    "preds = gs_model.predict(X_test)"
   ]
  },
  {
   "cell_type": "code",
   "execution_count": 7,
   "id": "1ea86185",
   "metadata": {},
   "outputs": [],
   "source": [
    "pred_proba = gs_model.predict_proba(X_test)"
   ]
  },
  {
   "cell_type": "code",
   "execution_count": 8,
   "id": "ffcbc791",
   "metadata": {},
   "outputs": [
    {
     "data": {
      "text/plain": [
       "array([[1.        , 0.        ],\n",
       "       [1.        , 0.        ],\n",
       "       [1.        , 0.        ],\n",
       "       ...,\n",
       "       [0.66763425, 0.33236575],\n",
       "       [0.66763425, 0.33236575],\n",
       "       [0.66763425, 0.33236575]])"
      ]
     },
     "execution_count": 8,
     "metadata": {},
     "output_type": "execute_result"
    }
   ],
   "source": [
    "pred_proba"
   ]
  },
  {
   "cell_type": "code",
   "execution_count": 10,
   "id": "717ec5a7",
   "metadata": {},
   "outputs": [],
   "source": [
    "preds = []\n",
    "for i in range(0,len(pred_proba)):\n",
    "    preds.append(pred_proba[i][1])"
   ]
  },
  {
   "cell_type": "code",
   "execution_count": 11,
   "id": "500fa417",
   "metadata": {},
   "outputs": [],
   "source": [
    "dt_submission_1 = pd.DataFrame()\n",
    "dt_submission_1['Id'] = test_final['Id']\n",
    "dt_submission_1['WnvPresent'] = preds\n",
    "dt_submission_1.to_csv('./submissions/dt_submission_1.csv', index=False)"
   ]
  },
  {
   "cell_type": "markdown",
   "id": "44e6bad7",
   "metadata": {},
   "source": [
    "When submitted to kaggle, the score is **0.62199**."
   ]
  },
  {
   "cell_type": "markdown",
   "id": "cf8209e1",
   "metadata": {},
   "source": [
    "As with other similar classifiers that undergo 'voting', the model did not fare well. The best parameters were a max depth of 4, min sample leaf of 4 and min sample split of 10. the model score was 0.760 and the validation score was 0.622. However, when submitted to kaggle, the score was 0.58836. \n",
    "\n",
    "This is due to the fact that such models do not have a great degree of accuracy in the predict_proba function. some of the predicted probabilities were simply [1,0] or [0.66,0.33] which were not refined enough for our model to do well on kaggle. The model also overfits on our training data as well given the large deviation between our train score and kaggle score. "
   ]
  },
  {
   "cell_type": "markdown",
   "id": "1616bd68",
   "metadata": {},
   "source": [
    "## Decision trees with imbalance pipe\n",
    "\n",
    "We now move to use imbalance pipe"
   ]
  },
  {
   "cell_type": "code",
   "execution_count": 13,
   "id": "62acea67",
   "metadata": {},
   "outputs": [],
   "source": [
    "X_train, X_val, y_train, y_val = train_test_split(X_train,\n",
    "                                                  y_train,\n",
    "                                                  test_size= 0.25,\n",
    "                                                  random_state= 42,\n",
    "                                                  stratify= y_train)"
   ]
  },
  {
   "cell_type": "code",
   "execution_count": 14,
   "id": "d087087c",
   "metadata": {},
   "outputs": [],
   "source": [
    "imbpipe = imbpipeline([('smote', SMOTE(random_state = 42)),\n",
    "                    ('dt', DecisionTreeClassifier())\n",
    "                   ])\n",
    "\n",
    "params2 = {\n",
    "    'dt__max_depth' : [2,3,4],\n",
    "    'dt__min_samples_split': [10,20,30],\n",
    "    'dt__min_samples_leaf': [2,3, 4],\n",
    "}\n",
    "\n",
    "gs2 = GridSearchCV(imbpipe,\n",
    "                  param_grid= params2,\n",
    "                  cv = 5,\n",
    "                  scoring = 'roc_auc',\n",
    "                  )\n",
    "\n",
    "gs2.fit(X_train, y_train)\n",
    "\n",
    "gs2_model = gs2.best_estimator_"
   ]
  },
  {
   "cell_type": "code",
   "execution_count": 15,
   "id": "e2bd8d3d",
   "metadata": {},
   "outputs": [
    {
     "name": "stdout",
     "output_type": "stream",
     "text": [
      "Best Grid Search Score: 0.7519231249249788\n",
      "Best Params: {'dt__max_depth': 4, 'dt__min_samples_leaf': 3, 'dt__min_samples_split': 10}\n",
      "Best Model Score: 0.653244540808425\n",
      "Best Model Test Score: 0.6572224802601022\n"
     ]
    }
   ],
   "source": [
    "# See results\n",
    "print(f'Best Grid Search Score: {gs2.best_score_}')\n",
    "print(f'Best Params: {gs2.best_params_}')\n",
    "\n",
    "print(f'Best Model Score: {gs2_model.score(X_train, y_train)}')\n",
    "print(f'Best Model Test Score: {gs2_model.score(X_val,y_val)}')\n"
   ]
  },
  {
   "cell_type": "code",
   "execution_count": 16,
   "id": "cad3c657",
   "metadata": {},
   "outputs": [
    {
     "data": {
      "image/png": "[encoded data removed]",
      "text/plain": [
       "<Figure size 432x288 with 2 Axes>"
      ]
     },
     "metadata": {
      "needs_background": "light"
     },
     "output_type": "display_data"
    },
    {
     "data": {
      "image/png": "[encoded data removed]",
      "text/plain": [
       "<Figure size 432x288 with 1 Axes>"
      ]
     },
     "metadata": {
      "needs_background": "light"
     },
     "output_type": "display_data"
    }
   ],
   "source": [
    "plot_confusion_matrix(gs2_model, X_val, y_val, cmap='Blues', values_format='d');\n",
    "tn, fp, fn, tp = confusion_matrix(y_val, gs2_model.predict(X_val)).ravel()\n",
    "pd.DataFrame([\n",
    "    ('Accurary', (tn+tp)/(tn+tp+fp+fn)),\n",
    "    ('Misclassification', (fp+fn)/(tn+tp+fp+fn)),\n",
    "    ('Sensitivity', tp/(tp+fn)),\n",
    "    ('Specificity', tn/(tn+fp)),\n",
    "    ('Precision', tp/(tp+fp))\n",
    "])\n",
    "\n",
    "plot_roc_curve(gs2_model, X_val, y_val);"
   ]
  },
  {
   "cell_type": "code",
   "execution_count": 17,
   "id": "4f43d7c6",
   "metadata": {},
   "outputs": [],
   "source": [
    "predict_probas = gs2_model.predict_proba(X_test)\n",
    "\n",
    "preds = []\n",
    "for i in range(0,len(predict_probas)):\n",
    "    preds.append(predict_probas[i][1])\n",
    "    \n",
    "dt_submission_2 = pd.DataFrame()\n",
    "dt_submission_2['Id'] = test_final['Id']\n",
    "dt_submission_2['WnvPresent'] = preds\n",
    "\n",
    "dt_submission_2.to_csv('./submissions/dt_submission_2.csv', index=False)"
   ]
  },
  {
   "cell_type": "markdown",
   "id": "7c40d416",
   "metadata": {},
   "source": [
    "Kaggle score is 0.60934. There is no improvement in the score."
   ]
  },
  {
   "cell_type": "code",
   "execution_count": null,
   "id": "b42bf9a2",
   "metadata": {},
   "outputs": [],
   "source": []
  }
 ],
 "metadata": {
  "kernelspec": {
   "display_name": "Python 3",
   "language": "python",
   "name": "python3"
  },
  "language_info": {
   "codemirror_mode": {
    "name": "ipython",
    "version": 3
   },
   "file_extension": ".py",
   "mimetype": "text/x-python",
   "name": "python",
   "nbconvert_exporter": "python",
   "pygments_lexer": "ipython3",
   "version": "3.8.8"
  }
 },
 "nbformat": 4,
 "nbformat_minor": 5
}
