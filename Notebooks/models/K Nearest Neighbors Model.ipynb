{
 "cells": [
  {
   "cell_type": "markdown",
   "id": "349f04ad",
   "metadata": {},
   "source": [
    "We attempt to use KNN model to model our data."
   ]
  },
  {
   "cell_type": "code",
   "execution_count": 1,
   "id": "4630dc2b",
   "metadata": {},
   "outputs": [],
   "source": [
    "import pandas as pd\n",
    "import requests\n",
    "import time\n",
    "import random\n",
    "import string\n",
    "import scipy.stats as stats\n",
    "import numpy as np\n",
    "import math \n",
    "from datetime import datetime\n",
    "\n",
    "import matplotlib.pyplot as plt\n",
    "import seaborn as sns\n",
    "from matplotlib_venn import venn2, venn2_circles, venn2_unweighted\n",
    "from matplotlib_venn import venn3, venn3_circles\n",
    "from matplotlib import pyplot as plt\n",
    "from sklearn.metrics import plot_roc_curve\n",
    "\n",
    "import pandas as pd\n",
    "import numpy as np\n",
    "from sklearn.model_selection import train_test_split\n",
    "from sklearn.preprocessing import StandardScaler\n",
    "from sklearn.metrics import confusion_matrix, classification_report, accuracy_score\n",
    "from sklearn.linear_model import LogisticRegression\n",
    "from imblearn.over_sampling import SMOTE\n",
    "\n",
    "from sklearn.model_selection import train_test_split\n",
    "from sklearn.model_selection import train_test_split, GridSearchCV\n",
    "from sklearn.pipeline import Pipeline\n",
    "from sklearn.linear_model import LogisticRegression\n",
    "from sklearn.feature_extraction.text import CountVectorizer, TfidfVectorizer\n",
    "from sklearn.naive_bayes import MultinomialNB\n",
    "from sklearn.tree import DecisionTreeClassifier\n",
    "from sklearn.ensemble import AdaBoostClassifier\n",
    "from sklearn.neighbors import KNeighborsClassifier\n",
    "from sklearn.preprocessing import StandardScaler\n",
    "from sklearn.svm import SVC\n",
    "from sklearn.metrics import plot_confusion_matrix, confusion_matrix\n",
    "\n",
    "from imblearn.pipeline import Pipeline as imbpipeline"
   ]
  },
  {
   "cell_type": "code",
   "execution_count": 3,
   "id": "fbc5c991",
   "metadata": {},
   "outputs": [],
   "source": [
    "# Read in data\n",
    "train_final = pd.read_csv('./data/train_final.csv')\n",
    "test_final = pd.read_csv('./data/test_final.csv')\n",
    "\n",
    "# Set up X_train, y_train, X_test\n",
    "\n",
    "X_train = train_final.drop(columns = ['Address','Block',\n",
    "'Street',\n",
    "'AddressNumberAndStreet',\n",
    "'Latitude',\n",
    "'Longitude',\n",
    "'Species',\n",
    "'Trap',\n",
    "'AddressAccuracy',\n",
    "'tot_mosquitos','WnvPresent','month_year','year', 'month', 'day',\n",
    "                                     'tarsalis', 'erraticus', 'unspecified',\n",
    "                                     'T040', 'T200B', 'T234', 'T090A', 'T090C',\n",
    "                                     'T090B', 'T218C', 'T128A', 'T218B', 'T218A',\n",
    "                                    'T002A', 'T002B', 'T200A', 'T065A'  ])\n",
    "y_train = train_final['WnvPresent']\n",
    "X_test = test_final.drop(columns = ['Address',\n",
    "'Block',\n",
    "'Street',\n",
    "'AddressNumberAndStreet',\n",
    "'Latitude',\n",
    "'Longitude',\n",
    "'Species',\n",
    "'Trap',\n",
    "'AddressAccuracy','Id','month_year', 'year', 'month', 'day',\n",
    "                                   'tarsalis', 'erraticus', 'unspecified',\n",
    "                                   'T040', 'T200B', 'T234', 'T090A', 'T090C',\n",
    "                                     'T090B', 'T218C', 'T128A', 'T218B', 'T218A',\n",
    "                                    'T002A', 'T002B', 'T200A', 'T065A'])\n",
    "\n",
    "# Scale columns that need to be scaled\n",
    "\n",
    "ss = StandardScaler()\n",
    "\n",
    "scale_list = ['StnPressure', 'ResultSpeed','ResultDir',\n",
    "              'DewPoint', 'DewPoint_roll2','DewPoint_roll3','DewPoint_roll4','DewPoint_roll5', 'DewPoint_roll6',\n",
    "             'Tavg', 'Tavg_roll2','Tavg_roll3','Tavg_roll4','Tavg_roll5', 'Tavg_roll6',\n",
    "             'PrecipTotal', 'PrecipTotal_roll2','PrecipTotal_roll3','PrecipTotal_roll4','PrecipTotal_roll5','PrecipTotal_roll6']\n",
    "\n",
    "X_train[scale_list] = ss.fit_transform(X_train[scale_list])\n",
    "\n",
    "X_test[scale_list] = ss.transform(X_test[scale_list])\n",
    "\n",
    "# SMOTE\n",
    "sm = SMOTE(sampling_strategy = {1: 8000}, random_state = 42)\n",
    "\n",
    "\n",
    "Xsm, ysm = sm.fit_resample(X_train, y_train)\n",
    "\n",
    "Xsm_train, Xsm_val, ysm_train, ysm_val = train_test_split(Xsm, \n",
    "                                                          ysm,\n",
    "                                                          test_size= 0.25,\n",
    "                                                          random_state= 42,\n",
    "                                                          stratify= ysm)"
   ]
  },
  {
   "cell_type": "code",
   "execution_count": 8,
   "id": "e24efda1",
   "metadata": {},
   "outputs": [],
   "source": [
    "# Run Gridsearch \n",
    "knn = KNeighborsClassifier()\n",
    "\n",
    "knn_pipe = Pipeline([(\n",
    "    'knn', KNeighborsClassifier())])\n",
    "\n",
    "knn_pipe_params = {\n",
    "    'knn__n_neighbors' : [40, 50, 60, 70],\n",
    "    'knn__metric': ['minkowski', 'euclidean', 'manhattan']\n",
    "}\n",
    "\n",
    "gs = GridSearchCV(knn_pipe,\n",
    "                 param_grid=knn_pipe_params,\n",
    "                 cv=5,\n",
    "                 scoring='roc_auc')\n",
    "\n",
    "gs.fit(Xsm_train, ysm_train)\n",
    "\n",
    "gs_model = gs.best_estimator_"
   ]
  },
  {
   "cell_type": "code",
   "execution_count": 9,
   "id": "72912b77",
   "metadata": {},
   "outputs": [
    {
     "name": "stdout",
     "output_type": "stream",
     "text": [
      "Best Grid Search Score: 0.856535436570122\n",
      "Best Params: {'knn__metric': 'manhattan', 'knn__n_neighbors': 50}\n",
      "Best Model Score: 0.7864454350338451\n",
      "Best Model Test Score: 0.7794008417925229\n"
     ]
    }
   ],
   "source": [
    "# See results\n",
    "print(f'Best Grid Search Score: {gs.best_score_}')\n",
    "print(f'Best Params: {gs.best_params_}')\n",
    "\n",
    "model = gs.best_estimator_\n",
    "print(f'Best Model Score: {gs_model.score(Xsm_train, ysm_train)}')\n",
    "print(f'Best Model Test Score: {gs_model.score(Xsm_val,ysm_val)}')\n"
   ]
  },
  {
   "cell_type": "code",
   "execution_count": 10,
   "id": "8d7e2b54",
   "metadata": {},
   "outputs": [
    {
     "data": {
      "text/html": [
       "<div>\n",
       "<style scoped>\n",
       "    .dataframe tbody tr th:only-of-type {\n",
       "        vertical-align: middle;\n",
       "    }\n",
       "\n",
       "    .dataframe tbody tr th {\n",
       "        vertical-align: top;\n",
       "    }\n",
       "\n",
       "    .dataframe thead th {\n",
       "        text-align: right;\n",
       "    }\n",
       "</style>\n",
       "<table border=\"1\" class=\"dataframe\">\n",
       "  <thead>\n",
       "    <tr style=\"text-align: right;\">\n",
       "      <th></th>\n",
       "      <th>0</th>\n",
       "      <th>1</th>\n",
       "    </tr>\n",
       "  </thead>\n",
       "  <tbody>\n",
       "    <tr>\n",
       "      <th>0</th>\n",
       "      <td>Accurary</td>\n",
       "      <td>0.779401</td>\n",
       "    </tr>\n",
       "    <tr>\n",
       "      <th>1</th>\n",
       "      <td>Misclassification</td>\n",
       "      <td>0.220599</td>\n",
       "    </tr>\n",
       "    <tr>\n",
       "      <th>2</th>\n",
       "      <td>Sensitivity</td>\n",
       "      <td>0.942000</td>\n",
       "    </tr>\n",
       "    <tr>\n",
       "      <th>3</th>\n",
       "      <td>Specificity</td>\n",
       "      <td>0.619912</td>\n",
       "    </tr>\n",
       "    <tr>\n",
       "      <th>4</th>\n",
       "      <td>Precision</td>\n",
       "      <td>0.708537</td>\n",
       "    </tr>\n",
       "  </tbody>\n",
       "</table>\n",
       "</div>"
      ],
      "text/plain": [
       "                   0         1\n",
       "0           Accurary  0.779401\n",
       "1  Misclassification  0.220599\n",
       "2        Sensitivity  0.942000\n",
       "3        Specificity  0.619912\n",
       "4          Precision  0.708537"
      ]
     },
     "execution_count": 10,
     "metadata": {},
     "output_type": "execute_result"
    },
    {
     "data": {
      "image/png": "[encoded data removed]",
      "text/plain": [
       "<Figure size 432x288 with 2 Axes>"
      ]
     },
     "metadata": {
      "needs_background": "light"
     },
     "output_type": "display_data"
    }
   ],
   "source": [
    "plot_confusion_matrix(gs_model, Xsm_val, ysm_val, cmap='Blues', values_format='d');\n",
    "tn, fp, fn, tp = confusion_matrix(ysm_val, gs_model.predict(Xsm_val)).ravel()\n",
    "pd.DataFrame([\n",
    "    ('Accurary', (tn+tp)/(tn+tp+fp+fn)),\n",
    "    ('Misclassification', (fp+fn)/(tn+tp+fp+fn)),\n",
    "    ('Sensitivity', tp/(tp+fn)),\n",
    "    ('Specificity', tn/(tn+fp)),\n",
    "    ('Precision', tp/(tp+fp))\n",
    "])"
   ]
  },
  {
   "cell_type": "code",
   "execution_count": 11,
   "id": "dd93a808",
   "metadata": {},
   "outputs": [
    {
     "data": {
      "image/png": "[encoded data removed]",
      "text/plain": [
       "<Figure size 432x288 with 1 Axes>"
      ]
     },
     "metadata": {
      "needs_background": "light"
     },
     "output_type": "display_data"
    }
   ],
   "source": [
    "plot_roc_curve(gs_model, Xsm_val, ysm_val);"
   ]
  },
  {
   "cell_type": "code",
   "execution_count": 12,
   "id": "6490ad11",
   "metadata": {},
   "outputs": [],
   "source": [
    "predict_probas = gs_model.predict_proba(X_test)"
   ]
  },
  {
   "cell_type": "code",
   "execution_count": 13,
   "id": "d2501846",
   "metadata": {},
   "outputs": [],
   "source": [
    "predict_predicts = gs_model.predict(X_test)"
   ]
  },
  {
   "cell_type": "code",
   "execution_count": 15,
   "id": "16c6fdba",
   "metadata": {},
   "outputs": [],
   "source": [
    "preds = []\n",
    "for i in range(0,len(predict_probas)):\n",
    "    preds.append(predict_probas[i][1])"
   ]
  },
  {
   "cell_type": "code",
   "execution_count": 16,
   "id": "4005b2f3",
   "metadata": {},
   "outputs": [],
   "source": [
    "knn_submission_1 = pd.DataFrame()\n",
    "knn_submission_1['Id'] = test_final['Id']\n",
    "knn_submission_1['WnvPresent'] = preds"
   ]
  },
  {
   "cell_type": "code",
   "execution_count": 32,
   "id": "82fd2e4c",
   "metadata": {},
   "outputs": [],
   "source": [
    "knn_submission_1.to_csv('./submissions/knn_submission_1.csv', index=False)"
   ]
  },
  {
   "cell_type": "markdown",
   "id": "430a48d9",
   "metadata": {},
   "source": [
    "When submitted to kaggle, the score is **0.5567**.\n",
    "\n"
   ]
  },
  {
   "cell_type": "markdown",
   "id": "38417e78",
   "metadata": {},
   "source": [
    "\n",
    "\n",
    "When fitting the model to K Nearest Neighbors, the best parameters found were using n = 50 and distance being manhatten.\n",
    "The best score was 0.7864 and the model score was 0.7794.\n",
    "When ran on test data, the score on kaggle was 0.5567. This shows that the model was weak and drastically overfitted.\n",
    "\n",
    "Because KNN has a very limieted concept of probability, its estimate is simplay a fraction of votes amongst nearest neighbors. We can refine it by increasing n but our gridsearch showed that n = 50 was the optimal value. Should the kaggle metric be just simply classification of 1 and 0, our model might have done better in terms of accuracy. However, for such a case, this model was rather unsatisfactory. \n",
    "\n",
    "The other main weakness for KNN is that there is little intepretation we can do on the model. We are unable to determine feature importance or intepret coefficients."
   ]
  },
  {
   "cell_type": "markdown",
   "id": "29a81b4c",
   "metadata": {},
   "source": [
    "## KNN using Imbalance Pipeline\n",
    "\n",
    "We move on to use imbalance pipeline to prevent any data leakage and see how results fare."
   ]
  },
  {
   "cell_type": "code",
   "execution_count": 27,
   "id": "62ac0895",
   "metadata": {},
   "outputs": [],
   "source": [
    "X_train, X_val, y_train, y_val = train_test_split(X_train,\n",
    "                                                  y_train,\n",
    "                                                  test_size= 0.25,\n",
    "                                                  random_state= 42,\n",
    "                                                  stratify= y_train)"
   ]
  },
  {
   "cell_type": "code",
   "execution_count": 28,
   "id": "75a91360",
   "metadata": {},
   "outputs": [],
   "source": [
    "imbpipe = imbpipeline([('smote', SMOTE(random_state = 42)),\n",
    "                    ('knn', KNeighborsClassifier())\n",
    "                   ])\n",
    "\n",
    "params2 = {\n",
    "    'knn__n_neighbors' : [40, 50, 60, 70],\n",
    "    'knn__metric': ['minkowski', 'euclidean', 'manhattan']\n",
    "}\n",
    "\n",
    "gs2 = GridSearchCV(imbpipe,\n",
    "                  param_grid= params2,\n",
    "                  cv = 5,\n",
    "                  scoring = 'roc_auc',\n",
    "                  )\n",
    "\n",
    "gs2.fit(X_train, y_train)\n",
    "\n",
    "gs2_model = gs2.best_estimator_"
   ]
  },
  {
   "cell_type": "code",
   "execution_count": 29,
   "id": "3763487d",
   "metadata": {},
   "outputs": [
    {
     "name": "stdout",
     "output_type": "stream",
     "text": [
      "Best Grid Search Score: 0.782634756834498\n",
      "Best Params: {'knn__metric': 'manhattan', 'knn__n_neighbors': 40}\n",
      "Best Model Score: 0.656961437199938\n",
      "Best Model Test Score: 0.6502554575011612\n"
     ]
    }
   ],
   "source": [
    "# See results\n",
    "print(f'Best Grid Search Score: {gs2.best_score_}')\n",
    "print(f'Best Params: {gs2.best_params_}')\n",
    "\n",
    "print(f'Best Model Score: {gs2_model.score(X_train, y_train)}')\n",
    "print(f'Best Model Test Score: {gs2_model.score(X_val,y_val)}')\n"
   ]
  },
  {
   "cell_type": "code",
   "execution_count": 30,
   "id": "c50920c9",
   "metadata": {},
   "outputs": [
    {
     "data": {
      "text/html": [
       "<div>\n",
       "<style scoped>\n",
       "    .dataframe tbody tr th:only-of-type {\n",
       "        vertical-align: middle;\n",
       "    }\n",
       "\n",
       "    .dataframe tbody tr th {\n",
       "        vertical-align: top;\n",
       "    }\n",
       "\n",
       "    .dataframe thead th {\n",
       "        text-align: right;\n",
       "    }\n",
       "</style>\n",
       "<table border=\"1\" class=\"dataframe\">\n",
       "  <thead>\n",
       "    <tr style=\"text-align: right;\">\n",
       "      <th></th>\n",
       "      <th>0</th>\n",
       "      <th>1</th>\n",
       "    </tr>\n",
       "  </thead>\n",
       "  <tbody>\n",
       "    <tr>\n",
       "      <th>0</th>\n",
       "      <td>Accurary</td>\n",
       "      <td>0.650255</td>\n",
       "    </tr>\n",
       "    <tr>\n",
       "      <th>1</th>\n",
       "      <td>Misclassification</td>\n",
       "      <td>0.349745</td>\n",
       "    </tr>\n",
       "    <tr>\n",
       "      <th>2</th>\n",
       "      <td>Sensitivity</td>\n",
       "      <td>0.859649</td>\n",
       "    </tr>\n",
       "    <tr>\n",
       "      <th>3</th>\n",
       "      <td>Specificity</td>\n",
       "      <td>0.638548</td>\n",
       "    </tr>\n",
       "    <tr>\n",
       "      <th>4</th>\n",
       "      <td>Precision</td>\n",
       "      <td>0.117365</td>\n",
       "    </tr>\n",
       "  </tbody>\n",
       "</table>\n",
       "</div>"
      ],
      "text/plain": [
       "                   0         1\n",
       "0           Accurary  0.650255\n",
       "1  Misclassification  0.349745\n",
       "2        Sensitivity  0.859649\n",
       "3        Specificity  0.638548\n",
       "4          Precision  0.117365"
      ]
     },
     "execution_count": 30,
     "metadata": {},
     "output_type": "execute_result"
    },
    {
     "data": {
      "image/png": "[encoded data removed]",
      "text/plain": [
       "<Figure size 432x288 with 2 Axes>"
      ]
     },
     "metadata": {
      "needs_background": "light"
     },
     "output_type": "display_data"
    }
   ],
   "source": [
    "plot_confusion_matrix(gs2_model, X_val, y_val, cmap='Blues', values_format='d');\n",
    "tn, fp, fn, tp = confusion_matrix(y_val, gs2_model.predict(X_val)).ravel()\n",
    "pd.DataFrame([\n",
    "    ('Accurary', (tn+tp)/(tn+tp+fp+fn)),\n",
    "    ('Misclassification', (fp+fn)/(tn+tp+fp+fn)),\n",
    "    ('Sensitivity', tp/(tp+fn)),\n",
    "    ('Specificity', tn/(tn+fp)),\n",
    "    ('Precision', tp/(tp+fp))\n",
    "])"
   ]
  },
  {
   "cell_type": "code",
   "execution_count": 31,
   "id": "ae812a66",
   "metadata": {},
   "outputs": [
    {
     "data": {
      "image/png": "[encoded data removed]",
      "text/plain": [
       "<Figure size 432x288 with 1 Axes>"
      ]
     },
     "metadata": {
      "needs_background": "light"
     },
     "output_type": "display_data"
    }
   ],
   "source": [
    "plot_roc_curve(gs2_model, X_val, y_val);"
   ]
  },
  {
   "cell_type": "code",
   "execution_count": 33,
   "id": "8e25ba8d",
   "metadata": {},
   "outputs": [],
   "source": [
    "predict_probas = gs2_model.predict_proba(X_test)\n",
    "\n",
    "preds = []\n",
    "for i in range(0,len(predict_probas)):\n",
    "    preds.append(predict_probas[i][1])\n",
    "    \n",
    "knn_submission_2 = pd.DataFrame()\n",
    "knn_submission_2['Id'] = test_final['Id']\n",
    "knn_submission_2['WnvPresent'] = preds\n",
    "\n",
    "knn_submission_2.to_csv('./submissions/knn_submission_2.csv', index=False)"
   ]
  },
  {
   "cell_type": "markdown",
   "id": "9e4cf771",
   "metadata": {},
   "source": [
    "We can see that the model score now is 0.65696 and the test score is 0.6502. When submitted to kaggle, the score is 0.53941.\n",
    "\n",
    "There is no improvement in the score."
   ]
  },
  {
   "cell_type": "code",
   "execution_count": null,
   "id": "bbd2aa45",
   "metadata": {},
   "outputs": [],
   "source": []
  }
 ],
 "metadata": {
  "kernelspec": {
   "display_name": "Python 3",
   "language": "python",
   "name": "python3"
  },
  "language_info": {
   "codemirror_mode": {
    "name": "ipython",
    "version": 3
   },
   "file_extension": ".py",
   "mimetype": "text/x-python",
   "name": "python",
   "nbconvert_exporter": "python",
   "pygments_lexer": "ipython3",
   "version": "3.8.8"
  }
 },
 "nbformat": 4,
 "nbformat_minor": 5
}
